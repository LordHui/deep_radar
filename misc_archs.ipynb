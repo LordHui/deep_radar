{
 "cells": [
  {
   "cell_type": "code",
   "execution_count": null,
   "metadata": {},
   "outputs": [],
   "source": [
    "def distributed_conv2d_embedding_model(input_shape):\n",
    "    model = Sequential()\n",
    "    model.add(Conv2D(filters=20,\\\n",
    "                     kernel_size=(1, 8),\\\n",
    "                     strides=1,\\\n",
    "                     padding='same',\\\n",
    "                     name='conv_1',\\\n",
    "                     input_shape=input_shape))\n",
    "    model.add(BatchNormalization())\n",
    "    \n",
    "    model.add(Conv2D(filters=20,\\\n",
    "                     kernel_size=(1, 4),\\\n",
    "                     strides=1,\\\n",
    "                     padding='same',\\\n",
    "                     name='conv_2',\\\n",
    "                     input_shape=input_shape))\n",
    "    model.add(BatchNormalization())\n",
    "    \n",
    "    model.add(Activation('relu', name='relu_1'))\n",
    "    model.add(MaxPooling2D(pool_size=(1, 2)))\n",
    "    \n",
    "    model.add(Flatten())\n",
    "    return model"
   ]
  },
  {
   "cell_type": "code",
   "execution_count": null,
   "metadata": {},
   "outputs": [],
   "source": [
    "def convlstm_embedding_model(input_shape):\n",
    "    model = Sequential()\n",
    "    model.add(ConvLSTM2D(filters=32, kernel_size=(1, 8),\\\n",
    "                         input_shape=input_shape,\\\n",
    "                         padding='same', return_sequences=True))\n",
    "    model.add(BatchNormalization())\n",
    "\n",
    "    model.add(ConvLSTM2D(filters=32, kernel_size=(1, 4),\n",
    "                       padding='same', return_sequences=True))\n",
    "    model.add(BatchNormalization())\n",
    "    model.add(Activation('relu', name='relu_1'))\n",
    "    #model.add(MaxPooling3D(pool_size=(32, 16, 4)))\n",
    "    return model"
   ]
  },
  {
   "cell_type": "markdown",
   "metadata": {},
   "source": [
    "**Distributed CNN Model**"
   ]
  },
  {
   "cell_type": "code",
   "execution_count": null,
   "metadata": {},
   "outputs": [],
   "source": [
    "windows, window_dim = 32, 16\n",
    "input_shape = (windows, window_dim, 1)\n",
    "\n",
    "#This model will take as input a 5D tensor of shape (batch_shape, timesequence/nb_frames, nb_row, nb_col, nb_channel)\n",
    "#input shape: nb_frames, nb_row, nb_col, nb_channel\n",
    "base_model = distributed_conv2d_embedding_model(input_shape)\n",
    "\n",
    "#Added for BatchNormalization. See https://github.com/keras-team/keras/issues/2310\n",
    "from keras import backend as K\n",
    "K.set_learning_phase(1)\n",
    "\n",
    "inputs = Input(shape=(None, 512), name='distributed_input')\n",
    "y = Reshape((-1,) + input_shape, input_shape=(None, 512))(inputs)\n",
    "\n",
    "y = TimeDistributed(base_model)(y)\n",
    "y = LSTM(32, return_sequences=False)(y)\n",
    "#y = Dense(30, activation='relu', name='counting_dense_1')(y)\n",
    "outputs = Dense(1, kernel_initializer='normal', name='counting_dense_2')(y)\n",
    "model = Model(inputs=inputs, outputs=outputs)\n",
    "\n",
    "model.compile(optimizer='adam', loss='mean_squared_error', metrics=['mae'])\n",
    "H = model.fit_generator(train_gen, validation_data=val_gen, validation_steps=len(val_gen),\\\n",
    "                        steps_per_epoch=n_bins, epochs=epochs)\n",
    "test_loss, test_mae = model.evaluate_generator(test_gen, steps=len(test_gen))"
   ]
  },
  {
   "cell_type": "markdown",
   "metadata": {},
   "source": [
    "**ConvLSTM Model**"
   ]
  },
  {
   "cell_type": "code",
   "execution_count": null,
   "metadata": {},
   "outputs": [],
   "source": [
    "windows, window_dim = 32, 16\n",
    "input_shape = (None, windows, window_dim, 1)\n",
    "\n",
    "model = convlstm_embedding_model(input_shape)\n",
    "H, H_test = lstm_counting_model(model, train_gen, val_gen, test_gen, n_bins)"
   ]
  }
 ],
 "metadata": {
  "kernelspec": {
   "display_name": "Python 3",
   "language": "python",
   "name": "python3"
  },
  "language_info": {
   "codemirror_mode": {
    "name": "ipython",
    "version": 3
   },
   "file_extension": ".py",
   "mimetype": "text/x-python",
   "name": "python",
   "nbconvert_exporter": "python",
   "pygments_lexer": "ipython3",
   "version": "3.6.3"
  }
 },
 "nbformat": 4,
 "nbformat_minor": 2
}
