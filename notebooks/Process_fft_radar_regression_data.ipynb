{
 "cells": [
  {
   "cell_type": "code",
   "execution_count": 107,
   "metadata": {},
   "outputs": [],
   "source": [
    "import numpy as np\n",
    "import os\n",
    "import glob\n",
    "import itertools\n",
    "import re\n",
    "from scipy.fftpack import fft"
   ]
  },
  {
   "cell_type": "code",
   "execution_count": 108,
   "metadata": {},
   "outputs": [],
   "source": [
    "def Data2ComplexBiasCorrected(filepath, dcI=2025, dcQ=2025):\n",
    "    # Ref: https://github.com/dhruboroy29/MATLAB_Scripts/blob/6ded2d8d434239e3488ee79e02232dd7afff908c/Scripts/Data2IQ.m\n",
    "    # Read IQ streams from data\n",
    "    assert os.path.splitext(filepath)[1] == '.data' or os.path.splitext(filepath)[1] == '.bbs'\n",
    "    comp = np.fromfile(filepath, dtype=np.uint16).astype(np.int16)\n",
    "    I = comp[::2]\n",
    "    Q = comp[1::2]\n",
    "    assert len(I) == len(Q)\n",
    "\n",
    "    # Sanity check of I and Q samples (>4096, or abruptly different from prev. sample?)\n",
    "    for i in range(1,len(I)-1):\n",
    "        if I[i]>4096 or abs(int(I[i])-int(I[i-1]))>2000 and abs(int(I[i])-int(I[i+1]))>1500:\n",
    "            I[i] = I[i-1]\n",
    "        if Q[i]>4096 or abs(int(Q[i])-int(Q[i-1]))>2000 and abs(int(Q[i])-int(Q[i+1]))>1500:\n",
    "            Q[i] = Q[i-1]\n",
    "    \n",
    "    return (I-dcI) + 1j*(Q-dcQ)"
   ]
  },
  {
   "cell_type": "code",
   "execution_count": 109,
   "metadata": {},
   "outputs": [],
   "source": [
    "def ComputeSTFT(X, stride=64, nfft=256, winlen=256):\n",
    "    numsteps = (len(X)-winlen)//stride + 1\n",
    "    \n",
    "    # Prepare data for FFT\n",
    "    Y=np.lib.stride_tricks.as_strided(X, (winlen,numsteps), strides=(X.itemsize, stride*X.itemsize))\n",
    "    \n",
    "    return fft(Y, n=nfft, axis=0)"
   ]
  },
  {
   "cell_type": "markdown",
   "metadata": {},
   "source": [
    "## STFT Test Code\n",
    "\n",
    "On MATLAB, variables saved as follows:\n",
    "`save('trial.mat', '-v7.3')`\n",
    "\n",
    "```\n",
    "import h5py\n",
    "f=h5py.File('trial.mat')\n",
    "\n",
    "X = f['X'].value.view(np.complex)[0]\n",
    "Z = ComputeSTFT(X)\n",
    "```\n",
    "\n",
    "Obtain MATLAB FFT to compare:\n",
    "\n",
    "```\n",
    "se = f['se'].value.view(np.complex)[0]\n",
    "```"
   ]
  },
  {
   "cell_type": "code",
   "execution_count": 110,
   "metadata": {},
   "outputs": [],
   "source": [
    "def extract_windows(file, winlen, stride=None):\n",
    "        \n",
    "    if stride is None:\n",
    "        stride = winlen\n",
    "    \n",
    "    # Read complex data\n",
    "    X = Data2ComplexBiasCorrected(file)\n",
    "    \n",
    "    numsteps = (len(X)-winlen)//stride + 1\n",
    "    Y = np.lib.stride_tricks.as_strided(X, (numsteps,winlen), strides=(stride*X.itemsize, X.itemsize))\n",
    "    \n",
    "    # Validate windows\n",
    "    j = 0\n",
    "    for i in np.arange(len(Y)):\n",
    "        assert (X[j*stride:j*stride+winlen] == Y[i]).all()\n",
    "        j = j+1\n",
    "        \n",
    "    return X, Y"
   ]
  },
  {
   "cell_type": "markdown",
   "metadata": {},
   "source": [
    "## Windows extraction test code\n",
    "\n",
    "```\n",
    "Data_cut, Data_win = extract_windows('/mnt/6b93b438-a3d4-40d2-9f3d-d8cdbb850183/Research/PedBike/final_bike_radial_full_cuts/a13_c1_Dec 9 2018_Bike_1p_cut4.data', 512)\n",
    "```"
   ]
  },
  {
   "cell_type": "code",
   "execution_count": 111,
   "metadata": {},
   "outputs": [],
   "source": [
    "files=list(itertools.chain(*[glob.glob(os.path.join(r, '*.data'))\n",
    "                             for r in glob.glob('final_*_radial_full_cuts')]))\n",
    "\n",
    "# Window length\n",
    "win_len = 512\n",
    "win_stride = 128"
   ]
  },
  {
   "cell_type": "code",
   "execution_count": 112,
   "metadata": {},
   "outputs": [],
   "source": [
    "Data_win_fft = []\n",
    "label_win_fft = []\n",
    "\n",
    "for cur_file in files:    \n",
    "    # Extract labels\n",
    "    fname=os.path.basename(cur_file)\n",
    "    flabel=int(re.match('.*_(?P<label>[0-9]+)p_.*', fname).groupdict()['label'])\n",
    "    \n",
    "    _, Data_win = extract_windows(cur_file, win_len, stride=win_stride)\n",
    "    \n",
    "    for index in np.arange(0, len(Data_win)):\n",
    "        Data_win_fft.append(ComputeSTFT(Data_win[index]))\n",
    "        label_win_fft.append(flabel)\n",
    "    \n",
    "    # File order of processing, and extracted labels\n",
    "    #print('{}\\t{}'.format(fname, flabel))"
   ]
  },
  {
   "cell_type": "code",
   "execution_count": 113,
   "metadata": {},
   "outputs": [
    {
     "name": "stdout",
     "output_type": "stream",
     "text": [
      "(18642, 256, 5)\n",
      "(18642,)\n"
     ]
    }
   ],
   "source": [
    "Data_win_fft = np.array(Data_win_fft)\n",
    "label_win_fft = np.array(label_win_fft)\n",
    "\n",
    "print(Data_win_fft.shape)\n",
    "print(label_win_fft.shape)"
   ]
  },
  {
   "cell_type": "code",
   "execution_count": 114,
   "metadata": {},
   "outputs": [],
   "source": [
    "np.save('Data_win_fft.npy', Data_win_fft)\n",
    "np.save('label_win_fft.npy', label_win_fft)"
   ]
  },
  {
   "cell_type": "code",
   "execution_count": null,
   "metadata": {},
   "outputs": [],
   "source": []
  }
 ],
 "metadata": {
  "kernelspec": {
   "display_name": "Python 3",
   "language": "python",
   "name": "python3"
  },
  "language_info": {
   "codemirror_mode": {
    "name": "ipython",
    "version": 3
   },
   "file_extension": ".py",
   "mimetype": "text/x-python",
   "name": "python",
   "nbconvert_exporter": "python",
   "pygments_lexer": "ipython3",
   "version": "3.6.7"
  }
 },
 "nbformat": 4,
 "nbformat_minor": 2
}
