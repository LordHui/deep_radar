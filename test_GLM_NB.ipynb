{
 "cells": [
  {
   "cell_type": "code",
   "execution_count": 1,
   "metadata": {},
   "outputs": [],
   "source": [
    "# Reference: https://github.com/statsmodels/statsmodels/blob/master/examples/notebooks/generic_mle.ipynb\n",
    "%matplotlib inline\n",
    "import numpy as np\n",
    "import patsy\n",
    "import pandas as pd\n",
    "from scipy import stats\n",
    "import statsmodels.api as sm\n",
    "from sklearn.model_selection import train_test_split\n",
    "from sklearn import preprocessing\n",
    "from scipy.stats import nbinom\n",
    "from statsmodels.base.model import GenericLikelihoodModel\n",
    "from matplotlib import pyplot as plt\n",
    "from sklearn.metrics import mean_absolute_error"
   ]
  },
  {
   "cell_type": "code",
   "execution_count": 8,
   "metadata": {},
   "outputs": [
    {
     "name": "stdout",
     "output_type": "stream",
     "text": [
      "Features:  Index(['th_2_numHitBins_max', 'th_2_numHitBins_median', 'th_6_moment_sum',\n",
      "       'th_6_freqWidth', 'th_8_numHitBins_var', 'th_16_moment_sum',\n",
      "       'th_42_moment_sum', 'th_46_maxFreq', 'th_62_numHitBins_median',\n",
      "       'th_90_moment_sum', 'th_98_numHitBins_median', 'th_158_maxFreq',\n",
      "       'th_198_maxFreq', 'Target', 'classLabel'],\n",
      "      dtype='object')\n",
      "687 Train Indices: [364 683 257 812 685 759 537 635 394 376 149 253 475 338 706 943 249 451\n",
      " 206 339 488 244  52 171 930 460 630 690 461 566 401 272 153  82 277 439\n",
      " 203 294 106 709 147 753 938 177 816 430 340 736 103 154 246 586 935 677\n",
      "  27  16  57 155 263  73 681 545 788 599 519 116 922 910  46 583 796 261\n",
      " 358 195 236  43 643  34 636  58 495 651 207 132 817 557 867 355 305 308\n",
      " 559 887 776 164 163 794 108 863 175 546 688  19  28 569 289 184 924 457\n",
      "  50 646 352 130 602   6 652 854 144 600 427 875 802 448 831 626 769 591\n",
      " 479 570 563 862 901  97 489 178 637 738 271   0 432 196 226 560 804  12\n",
      " 691 520  37  64 350 856 766   5 224 908 645 723 717 784 204  17 914 915\n",
      " 550 822 126 320 879 516 540 847 279 533 190 503 237 676 855 288 581 480\n",
      "  53 948 932 526 582 447 105 682 792 826 953 497 923 467 849 590 680 641\n",
      " 484 715 273 718 328 118 611 555 900 217 604 471 749 877 509 232 618 117\n",
      " 435 486 610 416 735 353 594  95 708 369 813 800 429 835 362 113 876 724\n",
      " 372 803 647 223 814 678 755 512 711 722  18 502 597 757 672 919 477 227\n",
      " 574 367   3 889 890 379 172 274 772 221 905 292 614 341 269 194 393 837\n",
      " 334 423 806 406 517 518 585 386 173 313 121 366 459 335 233 799 767 419\n",
      "  55 304 463 395 354 102 128 523 239 418 391 148 649  80 384 295 264 531\n",
      " 850 152 191 655 181 642 455 852 870 748 825 466 925 446 124 840 697  99\n",
      " 169 939 705  68  54 584 200 434 588 504   2  48 926 552 751 576 808 536\n",
      " 833 293  42 551 138  26 779 916 899 234 853 648 349 858  22 309 330 902\n",
      " 470 656 307 927 542 179 208 161 188 444 402 727 160  61 881 771  36 778\n",
      " 506 445 573 159 830 112 821 219 606  87  29 123 524 760 797 786 491  71\n",
      " 109 258 846 450 607 421 166 324 737   9 129 104 365 810 758 162 281 820\n",
      " 409 456 507 578 276 704 623  38 720 385  51 187  69 885 360 216 663 127\n",
      " 122 267 134 413  62 805  41 918 145 496 410 809 824 114 671 933 229 907\n",
      " 404  81 238 741 782 465 686 742 326  32 615 119 426  93  35 627 510 762\n",
      " 795 669 371 612 389 659 428 716 733 818  85 644 452 487 541 895 763 140\n",
      " 252 278 222 906  45  90 864 587 670 329 225 565 131 157   4 553  91 375\n",
      " 564 654 241 251 798 343 730 880 378 668 143 834  89 951 845 336 768 713\n",
      " 515 561 142 841 483 819 322 390 474 839 262 443 202 214 947 508 791 815\n",
      " 282 242 539 396 945 624  10 373  24 337  40 189 228 347  94 913   8 744\n",
      " 729 453 301 631 492 605  77 931 937 725 317 212 556 511 400 917 829 368\n",
      " 135 259 702  92 348 287 356 437 180 240 197 193 211 687 156 291 661 872\n",
      " 793 532 425 589 186 575 873 248 823 869 431 721 770 403 860 710 442 185\n",
      " 632 866 150 657 639 115 892 243 777 514 667  84 415 836 151 868 554 268\n",
      " 505 865  11 101  75 392 920 256  56 700  14 146 871 183 499 942 472 205\n",
      "  83  13 414   1 780 838 297 909 100 832 662 807 449 675 622 255 283 325\n",
      " 954 284 701 300 726  79 245 549 928 886 616 303 952  98 319 315 761 133\n",
      "  15 579 740]\n",
      "77 Val Indices: [884 628 458 285 473 848  20 535 898  74 176 182 693 878 653 323 781 936\n",
      " 619 438 921 592 387 719 571 417   7 608 440 407 739 743 230 745 270 397\n",
      " 441  25 944 609 747 640 650 698 577 383 750 220 469 170 674 167  47 844\n",
      " 345 476 775 501 344 893 699 498 665 934 562 201 399 125 696  21 756 374\n",
      " 478 420 111 433 454]\n",
      "191 Test Indices: [199 422 695 752 388 580 828 530 494 174 210 529  59 783 703  76 891 351\n",
      " 107 412 468 673 485 481  23 660 527 827 620  30 941 621 381 280  67 136\n",
      " 296 139 405 734  39 333 521 629  86 314 213 260  70 165 299  96 331 874\n",
      " 731 746 851 377 774 265 316 275 911 342 198  63 789 633 843 312 896 424\n",
      "  88 346 912 940 658 538 732 787 684 543 568 857 903 235 567 522 168 513\n",
      " 811 286 493 603 332 707  72 544  44 950 666 598 558 247 266 664 754 298\n",
      " 250 318 302 946 120 547 370 692 525 897 311 625  60 482 842 638 679 785\n",
      " 398  66 361 572 859 728 500 290 110 904 436 773 464 209 888 363 380 596\n",
      " 882 595 137 765 327 617 714 192 528 158 593 883 929  78 601 254 215 218\n",
      " 613 534 411  65 141 801 359 306 634 689 357 382 408 894  49 694 490 231\n",
      " 861 764 310 949 790 548  33  31 712 321 462]\n"
     ]
    }
   ],
   "source": [
    "data_file = '/scratch/sk7898/pedbike/1006_f_465_humans_490_bikes_13_feats.csv'\n",
    "data  = pd.read_csv(data_file)\n",
    "indices = np.arange(len(data))\n",
    "train, test, train_indices, test_indices = train_test_split(data, indices, test_size=0.2, random_state=42)\n",
    "train_1, val, train_indices, val_indices = train_test_split(train, train_indices, test_size=0.1, random_state=42)\n",
    "\n",
    "print('Features: ', data.columns)\n",
    "print('{} Train Indices: {}'.format(len(train_indices), train_indices))\n",
    "print('{} Val Indices: {}'.format(len(val_indices), val_indices))\n",
    "print('{} Test Indices: {}'.format(len(test_indices), test_indices))"
   ]
  },
  {
   "cell_type": "code",
   "execution_count": 17,
   "metadata": {},
   "outputs": [],
   "source": [
    "y_train, X_train = patsy.dmatrices('Target ~ th_2_numHitBins_max + th_2_numHitBins_median + th_6_moment_sum + th_6_freqWidth + th_8_numHitBins_var + th_16_moment_sum + th_42_moment_sum + th_46_maxFreq + th_62_numHitBins_median + th_90_moment_sum + th_98_numHitBins_median + th_198_maxFreq', data=train)\n",
    "y_test, X_test = patsy.dmatrices('Target ~ th_2_numHitBins_max + th_2_numHitBins_median + th_6_moment_sum + th_6_freqWidth + th_8_numHitBins_var + th_16_moment_sum + th_42_moment_sum + th_46_maxFreq + th_62_numHitBins_median + th_90_moment_sum + th_98_numHitBins_median + th_198_maxFreq', data=test)\n",
    "#X_train = preprocessing.normalize(X_train)\n",
    "#X_test = preprocessing.normalize(X_test)"
   ]
  },
  {
   "cell_type": "code",
   "execution_count": 18,
   "metadata": {},
   "outputs": [
    {
     "name": "stdout",
     "output_type": "stream",
     "text": [
      "                 Generalized Linear Model Regression Results                  \n",
      "==============================================================================\n",
      "Dep. Variable:                      y   No. Observations:                  764\n",
      "Model:                            GLM   Df Residuals:                      751\n",
      "Model Family:        NegativeBinomial   Df Model:                           12\n",
      "Link Function:                    log   Scale:                          1.0000\n",
      "Method:                          IRLS   Log-Likelihood:                -1539.3\n",
      "Date:                Thu, 05 Dec 2019   Deviance:                       76.429\n",
      "Time:                        15:22:54   Pearson chi2:                     93.7\n",
      "No. Iterations:                     6                                         \n",
      "Covariance Type:            nonrobust                                         \n",
      "===========================================================================================\n",
      "                              coef    std err          z      P>|z|      [0.025      0.975]\n",
      "-------------------------------------------------------------------------------------------\n",
      "Intercept                   0.1496      0.564      0.265      0.791      -0.956       1.255\n",
      "th_2_numHitBins_max        -0.0041      0.005     -0.763      0.445      -0.015       0.006\n",
      "th_2_numHitBins_median      0.0023      0.005      0.437      0.662      -0.008       0.013\n",
      "th_6_moment_sum         -1.043e-06   7.42e-06     -0.141      0.888   -1.56e-05    1.35e-05\n",
      "th_6_freqWidth              0.0026      0.004      0.669      0.504      -0.005       0.010\n",
      "th_8_numHitBins_var     -4.849e-05      0.000     -0.212      0.832      -0.000       0.000\n",
      "th_16_moment_sum         5.597e-06   2.03e-05      0.275      0.783   -3.43e-05    4.55e-05\n",
      "th_42_moment_sum         2.706e-05   3.69e-05      0.733      0.464   -4.53e-05    9.94e-05\n",
      "th_46_maxFreq               0.0040      0.003      1.371      0.170      -0.002       0.010\n",
      "th_62_numHitBins_median    -0.0180      0.029     -0.619      0.536      -0.075       0.039\n",
      "th_90_moment_sum        -3.007e-05   3.32e-05     -0.905      0.365   -9.52e-05     3.5e-05\n",
      "th_98_numHitBins_median     0.0046      0.038      0.120      0.904      -0.070       0.079\n",
      "th_198_maxFreq              0.0012      0.002      0.631      0.528      -0.003       0.005\n",
      "===========================================================================================\n"
     ]
    }
   ],
   "source": [
    "nb_results = sm.GLM(y_train.astype(int), X_train, family=sm.families.NegativeBinomial()).fit()\n",
    "print(nb_results.summary())"
   ]
  },
  {
   "cell_type": "code",
   "execution_count": 72,
   "metadata": {},
   "outputs": [
    {
     "name": "stdout",
     "output_type": "stream",
     "text": [
      "['Intercept', 'th_2_numHitBins_max', 'th_2_numHitBins_median', 'th_6_moment_sum', 'th_6_freqWidth', 'th_8_numHitBins_var', 'th_16_moment_sum', 'th_42_moment_sum', 'th_46_maxFreq', 'th_62_numHitBins_median', 'th_90_moment_sum', 'th_98_numHitBins_median', 'th_198_maxFreq']\n",
      "Target\n"
     ]
    }
   ],
   "source": [
    "print(nb_results.model.exog_names)\n",
    "print(nb_results.model.endog_names)"
   ]
  },
  {
   "cell_type": "code",
   "execution_count": 19,
   "metadata": {},
   "outputs": [],
   "source": [
    "print_pred = False\n",
    "y_pred_test = nb_results.predict(X_test)\n",
    "y_pred_train = nb_results.predict(X_train)\n",
    "if print_pred:\n",
    "    for y_p, y_t in zip(y_pred_test.astype(np.int8), test.Target):\n",
    "        print(y_p, y_t)\n",
    "    \n",
    "    for y_p, y_t in zip(y_pred_train.astype(np.int8), train.Target):\n",
    "        print(y_p, y_t)"
   ]
  },
  {
   "cell_type": "code",
   "execution_count": 20,
   "metadata": {},
   "outputs": [
    {
     "name": "stdout",
     "output_type": "stream",
     "text": [
      "0.612565445026178\n",
      "0.5863874345549738\n"
     ]
    }
   ],
   "source": [
    "print(mean_absolute_error(y_train.astype(np.int8), y_pred_train.astype(np.int8)))\n",
    "print(mean_absolute_error(test.Target, y_pred_test.astype(np.int8)))"
   ]
  },
  {
   "cell_type": "markdown",
   "metadata": {},
   "source": [
    "**Summary**\n",
    "\n",
    "*Train Shape: (668, 13)*\\\n",
    "*Val Shape: (77, 13)\n",
    "*Test Shape: (191, 13)*\\\n",
    "\\\n",
    "*Without normalization*\n",
    "* Train MAE:0.6152694610778443\n",
    "* Test MAE: 0.6097560975609756 \n",
    "\n",
    "*With normalization*\n",
    "* Train MAE: 0.6916167664670658\n",
    "* Test MAE: 0.6724738675958188\n",
    "\n",
    "*If all the samples were used for Train i.e. (955, 13)*\n",
    "* MAE: 0.6083769633507854"
   ]
  },
  {
   "cell_type": "code",
   "execution_count": 91,
   "metadata": {},
   "outputs": [],
   "source": [
    "nobs = nb_results.nobs\n",
    "y = nb_results.model.endog/nb_results.model.endog.sum()\n",
    "yhat = nb_results.mu"
   ]
  },
  {
   "cell_type": "code",
   "execution_count": 98,
   "metadata": {},
   "outputs": [
    {
     "data": {
      "image/png": "[encoded data removed]",
      "text/plain": [
       "<Figure size 432x288 with 1 Axes>"
      ]
     },
     "metadata": {
      "needs_background": "light"
     },
     "output_type": "display_data"
    }
   ],
   "source": [
    "from statsmodels.graphics.api import abline_plot\n",
    "\n",
    "fig, ax = plt.subplots()\n",
    "ax.scatter(yhat, y)\n",
    "line_fit = sm.OLS(y, sm.add_constant(yhat, prepend=True)).fit()\n",
    "abline_plot(model_results=line_fit, ax=ax)\n",
    "\n",
    "\n",
    "ax.set_title('Model Fit Plot')\n",
    "ax.set_ylabel('Observed values')\n",
    "ax.set_xlabel('Fitted values');"
   ]
  },
  {
   "cell_type": "markdown",
   "metadata": {},
   "source": [
    "**Study with 2 Counters**"
   ]
  },
  {
   "cell_type": "code",
   "execution_count": 23,
   "metadata": {},
   "outputs": [],
   "source": [
    "data_bike = data[data.classLabel == \"Bike\"]\n",
    "data_ped = data[data.classLabel == \"Human\"]\n",
    "\n",
    "train_bike, test_bike = train_test_split(data_bike, train_size=0.7, random_state=42)\n",
    "y_bike_train, X_bike_train = patsy.dmatrices('Target ~ th_2_numHitBins_max + th_2_numHitBins_median + th_6_moment_sum + th_6_freqWidth + th_8_numHitBins_var + th_16_moment_sum + th_42_moment_sum + th_46_maxFreq + th_62_numHitBins_median + th_90_moment_sum + th_98_numHitBins_median + th_198_maxFreq', data=train_bike)\n",
    "y_bike_test, X_bike_test = patsy.dmatrices('Target ~ th_2_numHitBins_max + th_2_numHitBins_median + th_6_moment_sum + th_6_freqWidth + th_8_numHitBins_var + th_16_moment_sum + th_42_moment_sum + th_46_maxFreq + th_62_numHitBins_median + th_90_moment_sum + th_98_numHitBins_median + th_198_maxFreq', data=test_bike)\n",
    "\n",
    "train_ped, test_ped = train_test_split(data_ped, train_size=0.7, random_state=42)\n",
    "y_ped_train, X_ped_train = patsy.dmatrices('Target ~ th_2_numHitBins_max + th_2_numHitBins_median + th_6_moment_sum + th_6_freqWidth + th_8_numHitBins_var + th_16_moment_sum + th_42_moment_sum + th_46_maxFreq + th_62_numHitBins_median + th_90_moment_sum + th_98_numHitBins_median + th_198_maxFreq', data=train_ped)\n",
    "y_ped_test, X_ped_test = patsy.dmatrices('Target ~ th_2_numHitBins_max + th_2_numHitBins_median + th_6_moment_sum + th_6_freqWidth + th_8_numHitBins_var + th_16_moment_sum + th_42_moment_sum + th_46_maxFreq + th_62_numHitBins_median + th_90_moment_sum + th_98_numHitBins_median + th_198_maxFreq', data=test_ped)"
   ]
  },
  {
   "cell_type": "code",
   "execution_count": 27,
   "metadata": {},
   "outputs": [
    {
     "name": "stdout",
     "output_type": "stream",
     "text": [
      "(325, 13)\n",
      "(140, 13)\n"
     ]
    }
   ],
   "source": [
    "print(X_ped_train.shape)\n",
    "print(X_ped_test.shape)"
   ]
  },
  {
   "cell_type": "code",
   "execution_count": 24,
   "metadata": {},
   "outputs": [
    {
     "name": "stdout",
     "output_type": "stream",
     "text": [
      "0.5801749271137027\n",
      "0.4965986394557823\n"
     ]
    }
   ],
   "source": [
    "nb_bike = sm.GLM(y_bike_train.astype(int), X_bike_train, family=sm.families.NegativeBinomial()).fit()\n",
    "y_pred_bike_train = nb_bike.predict(X_bike_train)\n",
    "y_pred_bike_test = nb_bike.predict(X_bike_test)\n",
    "print(mean_absolute_error(y_bike_train.astype(np.int8), y_pred_bike_train.astype(np.int8)))\n",
    "print(mean_absolute_error(y_bike_test.astype(np.int8), y_pred_bike_test.astype(np.int8)))"
   ]
  },
  {
   "cell_type": "code",
   "execution_count": 25,
   "metadata": {},
   "outputs": [
    {
     "name": "stdout",
     "output_type": "stream",
     "text": [
      "0.5507692307692308\n",
      "0.5928571428571429\n"
     ]
    }
   ],
   "source": [
    "nb_ped  = sm.GLM(y_ped_train.astype(int), X_ped_train, family=sm.families.NegativeBinomial()).fit()\n",
    "y_pred_ped_train = nb_ped.predict(X_ped_train)\n",
    "y_pred_ped_test = nb_ped.predict(X_ped_test)\n",
    "print(mean_absolute_error(y_ped_train.astype(np.int8), y_pred_ped_train.astype(np.int8)))\n",
    "print(mean_absolute_error(y_ped_test.astype(np.int8), y_pred_ped_test.astype(np.int8)))"
   ]
  },
  {
   "cell_type": "markdown",
   "metadata": {},
   "source": [
    "**Summary**\n",
    "\n",
    "**Human Counter**\n",
    "* Train Shape: (325, 13)\n",
    "* Test Shape: (140, 13)\n",
    "\n",
    "* Train MAE:0.5507692307692308\n",
    "* Test MAE: 0.5928571428571429 \n",
    "\n",
    "**Bike Counter**\n",
    "* Train Shape: (343, 13)\n",
    "* Test Shape: (147, 13)\n",
    "    \n",
    "* Train MAE: 0.5801749271137027\n",
    "* Test MAE: 0.4965986394557823"
   ]
  },
  {
   "cell_type": "code",
   "execution_count": null,
   "metadata": {},
   "outputs": [],
   "source": []
  }
 ],
 "metadata": {
  "kernelspec": {
   "display_name": "Python 3",
   "language": "python",
   "name": "python3"
  },
  "language_info": {
   "codemirror_mode": {
    "name": "ipython",
    "version": 3
   },
   "file_extension": ".py",
   "mimetype": "text/x-python",
   "name": "python",
   "nbconvert_exporter": "python",
   "pygments_lexer": "ipython3",
   "version": "3.6.3"
  }
 },
 "nbformat": 4,
 "nbformat_minor": 2
}
