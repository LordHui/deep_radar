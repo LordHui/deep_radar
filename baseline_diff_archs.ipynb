{
 "cells": [
  {
   "cell_type": "code",
   "execution_count": 2,
   "metadata": {},
   "outputs": [
    {
     "name": "stderr",
     "output_type": "stream",
     "text": [
      "Using TensorFlow backend.\n"
     ]
    }
   ],
   "source": [
    "import os\n",
    "import random\n",
    "import math\n",
    "import numpy as np\n",
    "import matplotlib.pyplot as plt\n",
    "import tensorflow as tf\n",
    "import keras\n",
    "from keras import utils\n",
    "from sklearn.model_selection import train_test_split\n",
    "from keras.models import Model, Sequential\n",
    "from keras.layers.convolutional_recurrent import ConvLSTM2D\n",
    "from keras.layers.normalization import BatchNormalization\n",
    "from keras.layers import *"
   ]
  },
  {
   "cell_type": "code",
   "execution_count": 3,
   "metadata": {},
   "outputs": [],
   "source": [
    "def get_data(fileloc, window=256):\n",
    "    x_train = np.load(os.path.join(fileloc, \"train.npy\"))\n",
    "    x_val = np.load(os.path.join(fileloc, \"val.npy\"))\n",
    "    x_test = np.load(os.path.join(fileloc, \"test.npy\"))\n",
    "\n",
    "    y_train = np.load(os.path.join(fileloc, \"train_lbls.npy\"))\n",
    "    y_val = np.load(os.path.join(fileloc, \"val_lbls.npy\"))\n",
    "    y_test = np.load(os.path.join(fileloc, \"test_lbls.npy\"))\n",
    "\n",
    "    seqs_train = np.load(os.path.join(fileloc, \"train_seqs.npy\"))\n",
    "    seqs_val = np.load(os.path.join(fileloc, \"val_seqs.npy\"))\n",
    "    seqs_test = np.load(os.path.join(fileloc, \"test_seqs.npy\"))\n",
    "    \n",
    "    return x_train, x_val, x_test, y_train, y_val, y_test, seqs_train, seqs_val, seqs_test"
   ]
  },
  {
   "cell_type": "code",
   "execution_count": 4,
   "metadata": {},
   "outputs": [],
   "source": [
    "def histedges_equalN(seq_lengths, n_bins):\n",
    "    npt = len(seq_lengths)\n",
    "    return np.interp(np.linspace(0, npt, n_bins + 1),\n",
    "                     np.arange(npt),\n",
    "                     np.sort(seq_lengths))\n",
    "\n",
    "def element_to_bucket_id(x, buckets_min, buckets_max):\n",
    "    seq_length = x.shape[0]\n",
    "    conditions_c = np.logical_and(np.less_equal(buckets_min, seq_length),\n",
    "                                  np.less(seq_length, buckets_max))\n",
    "    bucket_id = np.min(np.where(conditions_c))\n",
    "    return bucket_id\n",
    "\n",
    "def pad_sequence(x, max_len=None, padding_value=0):\n",
    "    orig_length = x.shape[0]\n",
    "    new_x = np.zeros((max_len, 512), dtype=np.float64)\n",
    "    new_x[0:orig_length,:] = x\n",
    "    return new_x\n",
    "    \n",
    "class train_generator(keras.utils.Sequence):            \n",
    "    def _permute(self):\n",
    "        #Shuffle the buckets\n",
    "        self.b_ids = np.random.permutation(self.n_bins)\n",
    "        \n",
    "        # Shuffle bucket contents\n",
    "        for key in self.b_ids:\n",
    "            xbin = np.array(self.buckets[key]['x'])\n",
    "            ybin = np.array(self.buckets[key]['y'])\n",
    "            #print(xbin.shape)\n",
    "            index_array = np.random.permutation(len(self.buckets[key]['x']))\n",
    "            self.buckets[key]['x'] = xbin[index_array]\n",
    "            self.buckets[key]['y'] = ybin[index_array]\n",
    "\n",
    "    def on_epoch_end(self):\n",
    "        self._permute()\n",
    "    \n",
    "    def __len__(self):\n",
    "        \"\"\"Denotes the number of batches per epoch\"\"\"\n",
    "        return self.n_bins\n",
    "    \n",
    "    def __init__(self, n_bins, data, labels, seq_lengths, padding=None, padding_value=None):\n",
    "        bucket_sizes, bucket_boundaries = np.histogram(seq_lengths, bins = histedges_equalN(seq_lengths, n_bins))\n",
    "        #print(bucket_sizes)\n",
    "        #print(bucket_boundaries)\n",
    "\n",
    "        data_buckets = dict()\n",
    "        boundaries = list(bucket_boundaries)\n",
    "        buckets_min = boundaries[:-1]\n",
    "        buckets_max = boundaries[1:]\n",
    "        buckets_max[n_bins-1] += 1\n",
    "        #print(buckets_min)\n",
    "        #print(buckets_max)\n",
    "        \n",
    "        for x, y in zip(data, labels):\n",
    "            b_id = element_to_bucket_id(x, buckets_min, buckets_max)\n",
    "            if padding:\n",
    "                if x.shape[0] < buckets_max[b_id]:\n",
    "                    max_len = buckets_max[b_id] - 1\n",
    "                    x = pad_sequence(x, max_len=int(max_len), padding_value=padding_value)\n",
    "                    \n",
    "            if b_id in data_buckets.keys():\n",
    "                data_buckets[b_id]['x'].append(x)\n",
    "                data_buckets[b_id]['y'].append(y)\n",
    "            else:\n",
    "                data_buckets[b_id] = {} \n",
    "                data_buckets[b_id]['x'] = [x]\n",
    "                data_buckets[b_id]['y'] = [y]    \n",
    "    \n",
    "        self.n_bins = n_bins\n",
    "        self.buckets = data_buckets\n",
    "        self._permute()\n",
    "        \n",
    "    def __getitem__(self, idx):\n",
    "        key = self.b_ids[idx]\n",
    "        #print(self.buckets[key]['x'].shape)\n",
    "        return self.buckets[key]['x'], self.buckets[key]['y']"
   ]
  },
  {
   "cell_type": "code",
   "execution_count": 5,
   "metadata": {},
   "outputs": [],
   "source": [
    "class val_generator(keras.utils.Sequence): \n",
    "    def __len__(self):\n",
    "        \"\"\"Denotes the number of batches per epoch\"\"\"\n",
    "        return self.n_bins\n",
    "    \n",
    "    def __init__(self, data, labels): \n",
    "        self.x, self.y = data, labels\n",
    "        self.n_bins = data.shape[0]\n",
    "        \n",
    "    def __getitem__(self, idx):\n",
    "        x = self.x[idx].reshape(1, self.x[idx].shape[0], self.x[idx].shape[1])\n",
    "        label = np.zeros((1,1), dtype=np.int16)\n",
    "        label[0] = self.y[idx]\n",
    "        #print(x.shape)\n",
    "        return x, label"
   ]
  },
  {
   "cell_type": "code",
   "execution_count": 6,
   "metadata": {},
   "outputs": [],
   "source": [
    "def conv1d_embedding_model(input_shape, reshape=None):\n",
    "    model = Sequential()\n",
    "    if reshape:\n",
    "        model.add(Reshape(reshape, input_shape=input_shape))\n",
    "        model.add(Conv1D(filters=32, kernel_size=8, activation='relu'))\n",
    "    else:\n",
    "        model.add(Conv1D(filters=32, kernel_size=8, activation='relu', input_shape=input_shape))\n",
    "    model.add(Conv1D(filters=32, kernel_size=4, activation='relu'))\n",
    "    model.add(MaxPooling1D(pool_size=2))\n",
    "    return model"
   ]
  },
  {
   "cell_type": "code",
   "execution_count": 7,
   "metadata": {},
   "outputs": [],
   "source": [
    "def lstm_embedding_model(input_shape, reshape=None):\n",
    "    model = Sequential()\n",
    "    if reshape:\n",
    "        model.add(Reshape(reshape, input_shape=input_shape))\n",
    "        model.add(LSTM(32, return_sequences=True, name='embedding_lstm_1'))\n",
    "    else:\n",
    "        model.add(LSTM(32, return_sequences=True, input_shape=input_shape, name='embedding_lstm_1'))\n",
    "    return model"
   ]
  },
  {
   "cell_type": "code",
   "execution_count": 8,
   "metadata": {},
   "outputs": [],
   "source": [
    "def lstm_counting_model(model, train_gen, val_gen, test_gen, n_bins, epochs=1, learning_rate=0.001):\n",
    "    adam = keras.optimizers.Adam(lr=learning_rate)\n",
    "    \n",
    "    model.add(Masking(mask_value=0.0))\n",
    "    model.add(LSTM(32, return_sequences=False, name='counting_lstm_1'))\n",
    "    model.add(Dense(30, activation='relu', name='counting_dense_1'))\n",
    "    model.add(Dense(1, name='counting_dense_2'))\n",
    "    \n",
    "    model.compile(loss='mean_squared_error', optimizer=adam, metrics=['mae'])\n",
    "    H = model.fit_generator(train_gen, validation_data=val_gen, validation_steps=len(val_gen),\\\n",
    "                            steps_per_epoch=n_bins, epochs=epochs)\n",
    "    H_test = model.evaluate_generator(test_gen, steps=len(test_gen))\n",
    "    return H, H_test"
   ]
  },
  {
   "cell_type": "code",
   "execution_count": 9,
   "metadata": {},
   "outputs": [],
   "source": [
    "data_type = 'stft'\n",
    "\n",
    "if data_type == 'stft':\n",
    "    fileloc = '/scratch/sk7898/pedbike/window_256/downstream_stft'\n",
    "else:\n",
    "    fileloc = '/scratch/sk7898/pedbike/window_256/downstream_time'\n",
    "    \n",
    "x_train, x_val, x_test, y_train, y_val, y_test, seqs_train, seqs_val, seqs_test = get_data(fileloc)\n",
    "assert x_train.shape[0] == y_train.shape[0] == seqs_train.shape[0]"
   ]
  },
  {
   "cell_type": "code",
   "execution_count": 10,
   "metadata": {},
   "outputs": [],
   "source": [
    "window = 256\n",
    "batch_size, epochs = 64, 10\n",
    "n_bins = int(len(seqs_train)/batch_size)\n",
    "\n",
    "train_gen = train_generator(n_bins, x_train, y_train, seq_lengths=seqs_train, padding=True, padding_value=0.0)\n",
    "val_gen = val_generator(x_val, y_val)\n",
    "test_gen = val_generator(x_test, y_test)"
   ]
  },
  {
   "cell_type": "markdown",
   "metadata": {},
   "source": [
    "**Conv1D Model with STFT**"
   ]
  },
  {
   "cell_type": "code",
   "execution_count": null,
   "metadata": {},
   "outputs": [
    {
     "name": "stdout",
     "output_type": "stream",
     "text": [
      "WARNING:tensorflow:From /home/sk7898/miniconda3/envs/l3embedding-new-cpu/lib/python3.6/site-packages/keras/backend/tensorflow_backend.py:1355: calling reduce_any (from tensorflow.python.ops.math_ops) with keep_dims is deprecated and will be removed in a future version.\n",
      "Instructions for updating:\n",
      "keep_dims is deprecated, use keepdims instead\n",
      "WARNING:tensorflow:From /home/sk7898/miniconda3/envs/l3embedding-new-cpu/lib/python3.6/site-packages/keras/backend/tensorflow_backend.py:1238: calling reduce_sum (from tensorflow.python.ops.math_ops) with keep_dims is deprecated and will be removed in a future version.\n",
      "Instructions for updating:\n",
      "keep_dims is deprecated, use keepdims instead\n",
      "WARNING:tensorflow:From /home/sk7898/miniconda3/envs/l3embedding-new-cpu/lib/python3.6/site-packages/keras/backend/tensorflow_backend.py:1340: calling reduce_mean (from tensorflow.python.ops.math_ops) with keep_dims is deprecated and will be removed in a future version.\n",
      "Instructions for updating:\n",
      "keep_dims is deprecated, use keepdims instead\n",
      "Epoch 1/1\n",
      "11/12 [==========================>...] - ETA: 0s - loss: 5.1728 - mean_absolute_error: 1.8734"
     ]
    }
   ],
   "source": [
    "n_timesteps, n_features = None, 512\n",
    "input_shape=(n_timesteps, n_features)\n",
    "\n",
    "#Embedding model\n",
    "model = conv1d_embedding_model(input_shape)\n",
    "#LSTM for counting\n",
    "H, H_test = lstm_counting_model(model, train_gen, val_gen, test_gen, n_bins)"
   ]
  },
  {
   "cell_type": "markdown",
   "metadata": {},
   "source": [
    "**LSTM-LSTM Model with STFT**"
   ]
  },
  {
   "cell_type": "code",
   "execution_count": null,
   "metadata": {},
   "outputs": [],
   "source": [
    "n_timesteps, n_features = None, 512\n",
    "input_shape = (n_timesteps, n_features)\n",
    "\n",
    "model = lstm_embedding_model(input_shape)\n",
    "H, H_test = lstm_counting_model(model, train_gen, val_gen, test_gen, n_bins)"
   ]
  },
  {
   "cell_type": "code",
   "execution_count": null,
   "metadata": {},
   "outputs": [],
   "source": [
    "data_type = 'time'\n",
    "window = 256\n",
    "batch_size, epochs = 64, 10\n",
    "\n",
    "if data_type == 'stft':\n",
    "    fileloc = '/scratch/sk7898/pedbike/window_256/downstream_stft'\n",
    "else:\n",
    "    fileloc = '/scratch/sk7898/pedbike/window_256/downstream_time'\n",
    "    \n",
    "x_train, x_val, x_test, y_train, y_val, y_test, seqs_train, seqs_val, seqs_test = get_data(fileloc)\n",
    "assert x_train.shape[0] == y_train.shape[0] == seqs_train.shape[0]\n",
    "\n",
    "n_bins = int(len(seqs_train)/batch_size)\n",
    "\n",
    "train_gen = train_generator(n_bins, x_train, y_train, seq_lengths=seqs_train, padding=True, padding_value=0.0)\n",
    "val_gen = val_generator(x_val, y_val)\n",
    "test_gen = val_generator(x_test, y_test)"
   ]
  },
  {
   "cell_type": "markdown",
   "metadata": {},
   "source": [
    "**Conv1D Model with Time-Series**"
   ]
  },
  {
   "cell_type": "code",
   "execution_count": null,
   "metadata": {},
   "outputs": [],
   "source": [
    "n_timesteps, n_features = None, 512\n",
    "input_shape=(n_timesteps, n_features)\n",
    "\n",
    "model = conv1d_embedding_model(input_shape, reshape=(-1, 2))\n",
    "H, H_test = lstm_counting_model(model, train_gen, val_gen, test_gen, n_bins)"
   ]
  },
  {
   "cell_type": "markdown",
   "metadata": {},
   "source": [
    "**LSTM-LSTM Model with Time-Series**"
   ]
  },
  {
   "cell_type": "code",
   "execution_count": null,
   "metadata": {},
   "outputs": [],
   "source": [
    "n_timesteps, n_features = None, 512\n",
    "input_shape = (n_timesteps, n_features)\n",
    "\n",
    "model = lstm_embedding_model(input_shape, reshape=(-1, 2))\n",
    "H, H_test = lstm_counting_model(model, train_gen, val_gen, test_gen, n_bins)"
   ]
  }
 ],
 "metadata": {
  "kernelspec": {
   "display_name": "Python 3",
   "language": "python",
   "name": "python3"
  },
  "language_info": {
   "codemirror_mode": {
    "name": "ipython",
    "version": 3
   },
   "file_extension": ".py",
   "mimetype": "text/x-python",
   "name": "python",
   "nbconvert_exporter": "python",
   "pygments_lexer": "ipython3",
   "version": "3.6.3"
  }
 },
 "nbformat": 4,
 "nbformat_minor": 2
}
