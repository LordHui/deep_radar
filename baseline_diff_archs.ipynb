{
 "cells": [
  {
   "cell_type": "code",
   "execution_count": 1,
   "metadata": {},
   "outputs": [
    {
     "name": "stderr",
     "output_type": "stream",
     "text": [
      "Using TensorFlow backend.\n"
     ]
    }
   ],
   "source": [
    "import warnings\n",
    "warnings.filterwarnings(\"ignore\", category=FutureWarning)\n",
    "import os\n",
    "import random\n",
    "import math\n",
    "import numpy as np\n",
    "import matplotlib.pyplot as plt\n",
    "import tensorflow as tf\n",
    "import keras\n",
    "from keras import utils\n",
    "from sklearn.model_selection import train_test_split\n",
    "from keras.models import Model, Sequential\n",
    "from keras.layers.convolutional_recurrent import ConvLSTM2D\n",
    "from keras.layers.normalization import BatchNormalization\n",
    "from keras.layers import *"
   ]
  },
  {
   "cell_type": "code",
   "execution_count": 2,
   "metadata": {},
   "outputs": [],
   "source": [
    "np_load_old = np.load\n",
    "np.load = lambda *a, **k: np_load_old(*a, allow_pickle=True, **k)\n",
    "\n",
    "def get_data(fileloc, window=256):\n",
    "    x_train = np.load(os.path.join(fileloc, \"train.npy\"))\n",
    "    x_val = np.load(os.path.join(fileloc, \"val.npy\"))\n",
    "    x_test = np.load(os.path.join(fileloc, \"test.npy\"))\n",
    "\n",
    "    y_train = np.load(os.path.join(fileloc, \"train_lbls.npy\"))\n",
    "    y_val = np.load(os.path.join(fileloc, \"val_lbls.npy\"))\n",
    "    y_test = np.load(os.path.join(fileloc, \"test_lbls.npy\"))\n",
    "\n",
    "    seqs_train = np.load(os.path.join(fileloc, \"train_seqs.npy\"))\n",
    "    seqs_val = np.load(os.path.join(fileloc, \"val_seqs.npy\"))\n",
    "    seqs_test = np.load(os.path.join(fileloc, \"test_seqs.npy\"))\n",
    "    \n",
    "    return x_train, x_val, x_test, y_train, y_val, y_test, seqs_train, seqs_val, seqs_test"
   ]
  },
  {
   "cell_type": "code",
   "execution_count": 3,
   "metadata": {},
   "outputs": [],
   "source": [
    "def histedges_equalN(seq_lengths, n_bins):\n",
    "    npt = len(seq_lengths)\n",
    "    return np.interp(np.linspace(0, npt, n_bins + 1),\n",
    "                     np.arange(npt),\n",
    "                     np.sort(seq_lengths))\n",
    "\n",
    "def element_to_bucket_id(x, buckets_min, buckets_max):\n",
    "    seq_length = x.shape[0]\n",
    "    conditions_c = np.logical_and(np.less_equal(buckets_min, seq_length),\n",
    "                                  np.less(seq_length, buckets_max))\n",
    "    bucket_id = np.min(np.where(conditions_c))\n",
    "    return bucket_id\n",
    "\n",
    "def pad_sequence(x, max_len=None, padding_value=0):\n",
    "    orig_length = x.shape[0]\n",
    "    new_x = np.zeros((max_len, 512), dtype=np.float64)\n",
    "    new_x[0:orig_length,:] = x\n",
    "    return new_x\n",
    "    \n",
    "class train_generator(keras.utils.Sequence):            \n",
    "    def _permute(self):\n",
    "        #Shuffle the buckets\n",
    "        self.b_ids = np.random.permutation(self.n_bins)\n",
    "        \n",
    "        # Shuffle bucket contents\n",
    "        for key in self.b_ids:\n",
    "            xbin = np.array(self.buckets[key]['x'])\n",
    "            ybin = np.array(self.buckets[key]['y'])\n",
    "            #print(xbin.shape)\n",
    "            index_array = np.random.permutation(len(self.buckets[key]['x']))\n",
    "            self.buckets[key]['x'] = xbin[index_array]\n",
    "            self.buckets[key]['y'] = ybin[index_array]\n",
    "\n",
    "    def on_epoch_end(self):\n",
    "        self._permute()\n",
    "    \n",
    "    def __len__(self):\n",
    "        \"\"\"Denotes the number of batches per epoch\"\"\"\n",
    "        return self.n_bins\n",
    "    \n",
    "    def __init__(self, n_bins, data, labels, seq_lengths, padding=None, padding_value=None):\n",
    "        bucket_sizes, bucket_boundaries = np.histogram(seq_lengths, bins = histedges_equalN(seq_lengths, n_bins))\n",
    "        #print(bucket_sizes)\n",
    "        #print(bucket_boundaries)\n",
    "\n",
    "        data_buckets = dict()\n",
    "        boundaries = list(bucket_boundaries)\n",
    "        buckets_min = boundaries[:-1]\n",
    "        buckets_max = boundaries[1:]\n",
    "        buckets_max[n_bins-1] += 1\n",
    "        #print(buckets_min)\n",
    "        #print(buckets_max)\n",
    "        \n",
    "        for x, y in zip(data, labels):\n",
    "            b_id = element_to_bucket_id(x, buckets_min, buckets_max)\n",
    "            if padding:\n",
    "                if x.shape[0] < buckets_max[b_id]:\n",
    "                    max_len = buckets_max[b_id] - 1\n",
    "                    x = pad_sequence(x, max_len=int(max_len), padding_value=padding_value)\n",
    "                    \n",
    "            if b_id in data_buckets.keys():\n",
    "                data_buckets[b_id]['x'].append(x)\n",
    "                data_buckets[b_id]['y'].append(y)\n",
    "            else:\n",
    "                data_buckets[b_id] = {} \n",
    "                data_buckets[b_id]['x'] = [x]\n",
    "                data_buckets[b_id]['y'] = [y]    \n",
    "    \n",
    "        self.n_bins = n_bins\n",
    "        self.buckets = data_buckets\n",
    "        self._permute()\n",
    "        \n",
    "    def __getitem__(self, idx):\n",
    "        key = self.b_ids[idx]\n",
    "        #print(self.buckets[key]['x'].shape)\n",
    "        return self.buckets[key]['x'], self.buckets[key]['y']"
   ]
  },
  {
   "cell_type": "code",
   "execution_count": 4,
   "metadata": {},
   "outputs": [],
   "source": [
    "class val_generator(keras.utils.Sequence): \n",
    "    def __len__(self):\n",
    "        \"\"\"Denotes the number of batches per epoch\"\"\"\n",
    "        return self.n_bins\n",
    "    \n",
    "    def __init__(self, data, labels): \n",
    "        self.x, self.y = data, labels\n",
    "        self.n_bins = data.shape[0]\n",
    "        \n",
    "    def __getitem__(self, idx):\n",
    "        x = self.x[idx].reshape(1, self.x[idx].shape[0], self.x[idx].shape[1])\n",
    "        label = np.zeros((1,1), dtype=np.int16)\n",
    "        label[0] = self.y[idx]\n",
    "        #print(x.shape)\n",
    "        return x, label"
   ]
  },
  {
   "cell_type": "code",
   "execution_count": 5,
   "metadata": {},
   "outputs": [],
   "source": [
    "def conv1d_embedding_model(input_shape, reshape=None):\n",
    "    model = Sequential()\n",
    "    if reshape:\n",
    "        model.add(Reshape(reshape, input_shape=input_shape))\n",
    "        model.add(Conv1D(filters=32, kernel_size=8, activation='relu'))\n",
    "    else:\n",
    "        model.add(Conv1D(filters=32, kernel_size=8, activation='relu', input_shape=input_shape))\n",
    "    model.add(Conv1D(filters=32, kernel_size=4, activation='relu'))\n",
    "    model.add(MaxPooling1D(pool_size=2))\n",
    "    return model"
   ]
  },
  {
   "cell_type": "code",
   "execution_count": 6,
   "metadata": {},
   "outputs": [],
   "source": [
    "def lstm_embedding_model(input_shape, reshape=None):\n",
    "    model = Sequential()\n",
    "    if reshape:\n",
    "        model.add(Reshape(reshape, input_shape=input_shape))\n",
    "        model.add(LSTM(32, return_sequences=True, name='embedding_lstm_1'))\n",
    "    else:\n",
    "        model.add(LSTM(32, return_sequences=True, input_shape=input_shape, name='embedding_lstm_1'))\n",
    "    return model"
   ]
  },
  {
   "cell_type": "code",
   "execution_count": 7,
   "metadata": {},
   "outputs": [],
   "source": [
    "def lstm_counting_model(model, train_gen, val_gen, test_gen, n_bins, epochs=1, learning_rate=0.001):\n",
    "    adam = keras.optimizers.Adam(lr=learning_rate)\n",
    "    \n",
    "    model.add(Masking(mask_value=0.0))\n",
    "    model.add(LSTM(32, return_sequences=False, name='counting_lstm_1'))\n",
    "    model.add(Dense(30, activation='relu', name='counting_dense_1'))\n",
    "    model.add(Dense(1, name='counting_dense_2'))\n",
    "    \n",
    "    model.compile(loss='mean_squared_error', optimizer=adam, metrics=['mae'])\n",
    "    model.summary()\n",
    "        \n",
    "    H = model.fit_generator(train_gen, validation_data=val_gen, validation_steps=len(val_gen),\\\n",
    "                            steps_per_epoch=n_bins, epochs=epochs)\n",
    "    H_test = model.evaluate_generator(test_gen, steps=len(test_gen))\n",
    "    return H, H_test"
   ]
  },
  {
   "cell_type": "code",
   "execution_count": 8,
   "metadata": {},
   "outputs": [],
   "source": [
    "data_type = 'stft'\n",
    "\n",
    "if data_type == 'stft':\n",
    "    fileloc = '/scratch/sk7898/pedbike/window_256/downstream_stft'\n",
    "else:\n",
    "    fileloc = '/scratch/sk7898/pedbike/window_256/downstream_time'\n",
    "    \n",
    "x_train, x_val, x_test, y_train, y_val, y_test, seqs_train, seqs_val, seqs_test = get_data(fileloc)\n",
    "assert x_train.shape[0] == y_train.shape[0] == seqs_train.shape[0]"
   ]
  },
  {
   "cell_type": "code",
   "execution_count": 9,
   "metadata": {},
   "outputs": [],
   "source": [
    "window = 256\n",
    "batch_size, epochs = 64, 10\n",
    "n_bins = int(len(seqs_train)/batch_size)\n",
    "\n",
    "train_gen = train_generator(n_bins, x_train, y_train, seq_lengths=seqs_train, padding=True, padding_value=0.0)\n",
    "val_gen = val_generator(x_val, y_val)\n",
    "test_gen = val_generator(x_test, y_test)"
   ]
  },
  {
   "cell_type": "markdown",
   "metadata": {},
   "source": [
    "**Conv1D Model with STFT**"
   ]
  },
  {
   "cell_type": "code",
   "execution_count": 10,
   "metadata": {},
   "outputs": [
    {
     "name": "stdout",
     "output_type": "stream",
     "text": [
      "WARNING:tensorflow:From /scratch/sk7898/miniconda3/envs/l3embedding-tf-14-cpu/lib/python3.6/site-packages/keras/backend/tensorflow_backend.py:4070: The name tf.nn.max_pool is deprecated. Please use tf.nn.max_pool2d instead.\n",
      "\n",
      "WARNING:tensorflow:From /scratch/sk7898/miniconda3/envs/l3embedding-tf-14-cpu/lib/python3.6/site-packages/tensorflow/python/keras/backend.py:3794: add_dispatch_support.<locals>.wrapper (from tensorflow.python.ops.array_ops) is deprecated and will be removed in a future version.\n",
      "Instructions for updating:\n",
      "Use tf.where in 2.0, which has the same broadcast rule as np.where\n",
      "Model: \"sequential_1\"\n",
      "_________________________________________________________________\n",
      "Layer (type)                 Output Shape              Param #   \n",
      "=================================================================\n",
      "conv1d_1 (Conv1D)            (None, None, 32)          131104    \n",
      "_________________________________________________________________\n",
      "conv1d_2 (Conv1D)            (None, None, 32)          4128      \n",
      "_________________________________________________________________\n",
      "max_pooling1d_1 (MaxPooling1 (None, None, 32)          0         \n",
      "_________________________________________________________________\n",
      "masking_1 (Masking)          (None, None, 32)          0         \n",
      "_________________________________________________________________\n",
      "counting_lstm_1 (LSTM)       (None, 32)                8320      \n",
      "_________________________________________________________________\n",
      "counting_dense_1 (Dense)     (None, 30)                990       \n",
      "_________________________________________________________________\n",
      "counting_dense_2 (Dense)     (None, 1)                 31        \n",
      "=================================================================\n",
      "Total params: 144,573\n",
      "Trainable params: 144,573\n",
      "Non-trainable params: 0\n",
      "_________________________________________________________________\n",
      "WARNING:tensorflow:From /scratch/sk7898/miniconda3/envs/l3embedding-tf-14-cpu/lib/python3.6/site-packages/keras/backend/tensorflow_backend.py:422: The name tf.global_variables is deprecated. Please use tf.compat.v1.global_variables instead.\n",
      "\n",
      "Epoch 1/1\n",
      "11/12 [==========================>...] - ETA: 0s - loss: 5.2065 - mae: 1.9732- ETA: 0s - loss: 4.2500 - mae: 1.73"
     ]
    },
    {
     "ename": "UnimplementedError",
     "evalue": "TensorArray has size zero, but element shape [?,32] is not fully defined. Currently only static shapes are supported when packing zero-size TensorArrays.\n\t [[{{node counting_lstm_1/TensorArrayStack/TensorArrayGatherV3}}]]",
     "output_type": "error",
     "traceback": [
      "\u001b[0;31m---------------------------------------------------------------------------\u001b[0m",
      "\u001b[0;31mUnimplementedError\u001b[0m                        Traceback (most recent call last)",
      "\u001b[0;32m<ipython-input-10-a0e85ec162a1>\u001b[0m in \u001b[0;36m<module>\u001b[0;34m\u001b[0m\n\u001b[1;32m      5\u001b[0m \u001b[0mmodel\u001b[0m \u001b[0;34m=\u001b[0m \u001b[0mconv1d_embedding_model\u001b[0m\u001b[0;34m(\u001b[0m\u001b[0minput_shape\u001b[0m\u001b[0;34m)\u001b[0m\u001b[0;34m\u001b[0m\u001b[0m\n\u001b[1;32m      6\u001b[0m \u001b[0;31m#LSTM for counting\u001b[0m\u001b[0;34m\u001b[0m\u001b[0;34m\u001b[0m\u001b[0m\n\u001b[0;32m----> 7\u001b[0;31m \u001b[0mH\u001b[0m\u001b[0;34m,\u001b[0m \u001b[0mH_test\u001b[0m \u001b[0;34m=\u001b[0m \u001b[0mlstm_counting_model\u001b[0m\u001b[0;34m(\u001b[0m\u001b[0mmodel\u001b[0m\u001b[0;34m,\u001b[0m \u001b[0mtrain_gen\u001b[0m\u001b[0;34m,\u001b[0m \u001b[0mval_gen\u001b[0m\u001b[0;34m,\u001b[0m \u001b[0mtest_gen\u001b[0m\u001b[0;34m,\u001b[0m \u001b[0mn_bins\u001b[0m\u001b[0;34m)\u001b[0m\u001b[0;34m\u001b[0m\u001b[0m\n\u001b[0m",
      "\u001b[0;32m<ipython-input-7-c30c36ea08e9>\u001b[0m in \u001b[0;36mlstm_counting_model\u001b[0;34m(model, train_gen, val_gen, test_gen, n_bins, epochs, learning_rate)\u001b[0m\n\u001b[1;32m     11\u001b[0m \u001b[0;34m\u001b[0m\u001b[0m\n\u001b[1;32m     12\u001b[0m     H = model.fit_generator(train_gen, validation_data=val_gen, validation_steps=len(val_gen),\\\n\u001b[0;32m---> 13\u001b[0;31m                             steps_per_epoch=n_bins, epochs=epochs)\n\u001b[0m\u001b[1;32m     14\u001b[0m     \u001b[0mH_test\u001b[0m \u001b[0;34m=\u001b[0m \u001b[0mmodel\u001b[0m\u001b[0;34m.\u001b[0m\u001b[0mevaluate_generator\u001b[0m\u001b[0;34m(\u001b[0m\u001b[0mtest_gen\u001b[0m\u001b[0;34m,\u001b[0m \u001b[0msteps\u001b[0m\u001b[0;34m=\u001b[0m\u001b[0mlen\u001b[0m\u001b[0;34m(\u001b[0m\u001b[0mtest_gen\u001b[0m\u001b[0;34m)\u001b[0m\u001b[0;34m)\u001b[0m\u001b[0;34m\u001b[0m\u001b[0m\n\u001b[1;32m     15\u001b[0m     \u001b[0;32mreturn\u001b[0m \u001b[0mH\u001b[0m\u001b[0;34m,\u001b[0m \u001b[0mH_test\u001b[0m\u001b[0;34m\u001b[0m\u001b[0m\n",
      "\u001b[0;32m/scratch/sk7898/miniconda3/envs/l3embedding-tf-14-cpu/lib/python3.6/site-packages/keras/legacy/interfaces.py\u001b[0m in \u001b[0;36mwrapper\u001b[0;34m(*args, **kwargs)\u001b[0m\n\u001b[1;32m     89\u001b[0m                 warnings.warn('Update your `' + object_name + '` call to the ' +\n\u001b[1;32m     90\u001b[0m                               'Keras 2 API: ' + signature, stacklevel=2)\n\u001b[0;32m---> 91\u001b[0;31m             \u001b[0;32mreturn\u001b[0m \u001b[0mfunc\u001b[0m\u001b[0;34m(\u001b[0m\u001b[0;34m*\u001b[0m\u001b[0margs\u001b[0m\u001b[0;34m,\u001b[0m \u001b[0;34m**\u001b[0m\u001b[0mkwargs\u001b[0m\u001b[0;34m)\u001b[0m\u001b[0;34m\u001b[0m\u001b[0m\n\u001b[0m\u001b[1;32m     92\u001b[0m         \u001b[0mwrapper\u001b[0m\u001b[0;34m.\u001b[0m\u001b[0m_original_function\u001b[0m \u001b[0;34m=\u001b[0m \u001b[0mfunc\u001b[0m\u001b[0;34m\u001b[0m\u001b[0m\n\u001b[1;32m     93\u001b[0m         \u001b[0;32mreturn\u001b[0m \u001b[0mwrapper\u001b[0m\u001b[0;34m\u001b[0m\u001b[0m\n",
      "\u001b[0;32m/scratch/sk7898/miniconda3/envs/l3embedding-tf-14-cpu/lib/python3.6/site-packages/keras/engine/training.py\u001b[0m in \u001b[0;36mfit_generator\u001b[0;34m(self, generator, steps_per_epoch, epochs, verbose, callbacks, validation_data, validation_steps, validation_freq, class_weight, max_queue_size, workers, use_multiprocessing, shuffle, initial_epoch)\u001b[0m\n\u001b[1;32m   1730\u001b[0m             \u001b[0muse_multiprocessing\u001b[0m\u001b[0;34m=\u001b[0m\u001b[0muse_multiprocessing\u001b[0m\u001b[0;34m,\u001b[0m\u001b[0;34m\u001b[0m\u001b[0m\n\u001b[1;32m   1731\u001b[0m             \u001b[0mshuffle\u001b[0m\u001b[0;34m=\u001b[0m\u001b[0mshuffle\u001b[0m\u001b[0;34m,\u001b[0m\u001b[0;34m\u001b[0m\u001b[0m\n\u001b[0;32m-> 1732\u001b[0;31m             initial_epoch=initial_epoch)\n\u001b[0m\u001b[1;32m   1733\u001b[0m \u001b[0;34m\u001b[0m\u001b[0m\n\u001b[1;32m   1734\u001b[0m     \u001b[0;34m@\u001b[0m\u001b[0minterfaces\u001b[0m\u001b[0;34m.\u001b[0m\u001b[0mlegacy_generator_methods_support\u001b[0m\u001b[0;34m\u001b[0m\u001b[0m\n",
      "\u001b[0;32m/scratch/sk7898/miniconda3/envs/l3embedding-tf-14-cpu/lib/python3.6/site-packages/keras/engine/training_generator.py\u001b[0m in \u001b[0;36mfit_generator\u001b[0;34m(model, generator, steps_per_epoch, epochs, verbose, callbacks, validation_data, validation_steps, validation_freq, class_weight, max_queue_size, workers, use_multiprocessing, shuffle, initial_epoch)\u001b[0m\n\u001b[1;32m    240\u001b[0m                             \u001b[0mvalidation_steps\u001b[0m\u001b[0;34m,\u001b[0m\u001b[0;34m\u001b[0m\u001b[0m\n\u001b[1;32m    241\u001b[0m                             \u001b[0mcallbacks\u001b[0m\u001b[0;34m=\u001b[0m\u001b[0mcallbacks\u001b[0m\u001b[0;34m,\u001b[0m\u001b[0;34m\u001b[0m\u001b[0m\n\u001b[0;32m--> 242\u001b[0;31m                             workers=0)\n\u001b[0m\u001b[1;32m    243\u001b[0m                     \u001b[0;32melse\u001b[0m\u001b[0;34m:\u001b[0m\u001b[0;34m\u001b[0m\u001b[0m\n\u001b[1;32m    244\u001b[0m                         \u001b[0;31m# No need for try/except because\u001b[0m\u001b[0;34m\u001b[0m\u001b[0;34m\u001b[0m\u001b[0m\n",
      "\u001b[0;32m/scratch/sk7898/miniconda3/envs/l3embedding-tf-14-cpu/lib/python3.6/site-packages/keras/legacy/interfaces.py\u001b[0m in \u001b[0;36mwrapper\u001b[0;34m(*args, **kwargs)\u001b[0m\n\u001b[1;32m     89\u001b[0m                 warnings.warn('Update your `' + object_name + '` call to the ' +\n\u001b[1;32m     90\u001b[0m                               'Keras 2 API: ' + signature, stacklevel=2)\n\u001b[0;32m---> 91\u001b[0;31m             \u001b[0;32mreturn\u001b[0m \u001b[0mfunc\u001b[0m\u001b[0;34m(\u001b[0m\u001b[0;34m*\u001b[0m\u001b[0margs\u001b[0m\u001b[0;34m,\u001b[0m \u001b[0;34m**\u001b[0m\u001b[0mkwargs\u001b[0m\u001b[0;34m)\u001b[0m\u001b[0;34m\u001b[0m\u001b[0m\n\u001b[0m\u001b[1;32m     92\u001b[0m         \u001b[0mwrapper\u001b[0m\u001b[0;34m.\u001b[0m\u001b[0m_original_function\u001b[0m \u001b[0;34m=\u001b[0m \u001b[0mfunc\u001b[0m\u001b[0;34m\u001b[0m\u001b[0m\n\u001b[1;32m     93\u001b[0m         \u001b[0;32mreturn\u001b[0m \u001b[0mwrapper\u001b[0m\u001b[0;34m\u001b[0m\u001b[0m\n",
      "\u001b[0;32m/scratch/sk7898/miniconda3/envs/l3embedding-tf-14-cpu/lib/python3.6/site-packages/keras/engine/training.py\u001b[0m in \u001b[0;36mevaluate_generator\u001b[0;34m(self, generator, steps, callbacks, max_queue_size, workers, use_multiprocessing, verbose)\u001b[0m\n\u001b[1;32m   1789\u001b[0m             \u001b[0mworkers\u001b[0m\u001b[0;34m=\u001b[0m\u001b[0mworkers\u001b[0m\u001b[0;34m,\u001b[0m\u001b[0;34m\u001b[0m\u001b[0m\n\u001b[1;32m   1790\u001b[0m             \u001b[0muse_multiprocessing\u001b[0m\u001b[0;34m=\u001b[0m\u001b[0muse_multiprocessing\u001b[0m\u001b[0;34m,\u001b[0m\u001b[0;34m\u001b[0m\u001b[0m\n\u001b[0;32m-> 1791\u001b[0;31m             verbose=verbose)\n\u001b[0m\u001b[1;32m   1792\u001b[0m \u001b[0;34m\u001b[0m\u001b[0m\n\u001b[1;32m   1793\u001b[0m     \u001b[0;34m@\u001b[0m\u001b[0minterfaces\u001b[0m\u001b[0;34m.\u001b[0m\u001b[0mlegacy_generator_methods_support\u001b[0m\u001b[0;34m\u001b[0m\u001b[0m\n",
      "\u001b[0;32m/scratch/sk7898/miniconda3/envs/l3embedding-tf-14-cpu/lib/python3.6/site-packages/keras/engine/training_generator.py\u001b[0m in \u001b[0;36mevaluate_generator\u001b[0;34m(model, generator, steps, callbacks, max_queue_size, workers, use_multiprocessing, verbose)\u001b[0m\n\u001b[1;32m    399\u001b[0m             outs = model.test_on_batch(x, y,\n\u001b[1;32m    400\u001b[0m                                        \u001b[0msample_weight\u001b[0m\u001b[0;34m=\u001b[0m\u001b[0msample_weight\u001b[0m\u001b[0;34m,\u001b[0m\u001b[0;34m\u001b[0m\u001b[0m\n\u001b[0;32m--> 401\u001b[0;31m                                        reset_metrics=False)\n\u001b[0m\u001b[1;32m    402\u001b[0m             \u001b[0mouts\u001b[0m \u001b[0;34m=\u001b[0m \u001b[0mto_list\u001b[0m\u001b[0;34m(\u001b[0m\u001b[0mouts\u001b[0m\u001b[0;34m)\u001b[0m\u001b[0;34m\u001b[0m\u001b[0m\n\u001b[1;32m    403\u001b[0m             \u001b[0mouts_per_batch\u001b[0m\u001b[0;34m.\u001b[0m\u001b[0mappend\u001b[0m\u001b[0;34m(\u001b[0m\u001b[0mouts\u001b[0m\u001b[0;34m)\u001b[0m\u001b[0;34m\u001b[0m\u001b[0m\n",
      "\u001b[0;32m/scratch/sk7898/miniconda3/envs/l3embedding-tf-14-cpu/lib/python3.6/site-packages/keras/engine/training.py\u001b[0m in \u001b[0;36mtest_on_batch\u001b[0;34m(self, x, y, sample_weight, reset_metrics)\u001b[0m\n\u001b[1;32m   1557\u001b[0m             \u001b[0mins\u001b[0m \u001b[0;34m=\u001b[0m \u001b[0mx\u001b[0m \u001b[0;34m+\u001b[0m \u001b[0my\u001b[0m \u001b[0;34m+\u001b[0m \u001b[0msample_weights\u001b[0m\u001b[0;34m\u001b[0m\u001b[0m\n\u001b[1;32m   1558\u001b[0m         \u001b[0mself\u001b[0m\u001b[0;34m.\u001b[0m\u001b[0m_make_test_function\u001b[0m\u001b[0;34m(\u001b[0m\u001b[0;34m)\u001b[0m\u001b[0;34m\u001b[0m\u001b[0m\n\u001b[0;32m-> 1559\u001b[0;31m         \u001b[0moutputs\u001b[0m \u001b[0;34m=\u001b[0m \u001b[0mself\u001b[0m\u001b[0;34m.\u001b[0m\u001b[0mtest_function\u001b[0m\u001b[0;34m(\u001b[0m\u001b[0mins\u001b[0m\u001b[0;34m)\u001b[0m\u001b[0;34m\u001b[0m\u001b[0m\n\u001b[0m\u001b[1;32m   1560\u001b[0m \u001b[0;34m\u001b[0m\u001b[0m\n\u001b[1;32m   1561\u001b[0m         \u001b[0;32mif\u001b[0m \u001b[0mreset_metrics\u001b[0m\u001b[0;34m:\u001b[0m\u001b[0;34m\u001b[0m\u001b[0m\n",
      "\u001b[0;32m/scratch/sk7898/miniconda3/envs/l3embedding-tf-14-cpu/lib/python3.6/site-packages/tensorflow/python/keras/backend.py\u001b[0m in \u001b[0;36m__call__\u001b[0;34m(self, inputs)\u001b[0m\n\u001b[1;32m   3290\u001b[0m \u001b[0;34m\u001b[0m\u001b[0m\n\u001b[1;32m   3291\u001b[0m     fetched = self._callable_fn(*array_vals,\n\u001b[0;32m-> 3292\u001b[0;31m                                 run_metadata=self.run_metadata)\n\u001b[0m\u001b[1;32m   3293\u001b[0m     \u001b[0mself\u001b[0m\u001b[0;34m.\u001b[0m\u001b[0m_call_fetch_callbacks\u001b[0m\u001b[0;34m(\u001b[0m\u001b[0mfetched\u001b[0m\u001b[0;34m[\u001b[0m\u001b[0;34m-\u001b[0m\u001b[0mlen\u001b[0m\u001b[0;34m(\u001b[0m\u001b[0mself\u001b[0m\u001b[0;34m.\u001b[0m\u001b[0m_fetches\u001b[0m\u001b[0;34m)\u001b[0m\u001b[0;34m:\u001b[0m\u001b[0;34m]\u001b[0m\u001b[0;34m)\u001b[0m\u001b[0;34m\u001b[0m\u001b[0m\n\u001b[1;32m   3294\u001b[0m     output_structure = nest.pack_sequence_as(\n",
      "\u001b[0;32m/scratch/sk7898/miniconda3/envs/l3embedding-tf-14-cpu/lib/python3.6/site-packages/tensorflow/python/client/session.py\u001b[0m in \u001b[0;36m__call__\u001b[0;34m(self, *args, **kwargs)\u001b[0m\n\u001b[1;32m   1456\u001b[0m         ret = tf_session.TF_SessionRunCallable(self._session._session,\n\u001b[1;32m   1457\u001b[0m                                                \u001b[0mself\u001b[0m\u001b[0;34m.\u001b[0m\u001b[0m_handle\u001b[0m\u001b[0;34m,\u001b[0m \u001b[0margs\u001b[0m\u001b[0;34m,\u001b[0m\u001b[0;34m\u001b[0m\u001b[0m\n\u001b[0;32m-> 1458\u001b[0;31m                                                run_metadata_ptr)\n\u001b[0m\u001b[1;32m   1459\u001b[0m         \u001b[0;32mif\u001b[0m \u001b[0mrun_metadata\u001b[0m\u001b[0;34m:\u001b[0m\u001b[0;34m\u001b[0m\u001b[0m\n\u001b[1;32m   1460\u001b[0m           \u001b[0mproto_data\u001b[0m \u001b[0;34m=\u001b[0m \u001b[0mtf_session\u001b[0m\u001b[0;34m.\u001b[0m\u001b[0mTF_GetBuffer\u001b[0m\u001b[0;34m(\u001b[0m\u001b[0mrun_metadata_ptr\u001b[0m\u001b[0;34m)\u001b[0m\u001b[0;34m\u001b[0m\u001b[0m\n",
      "\u001b[0;31mUnimplementedError\u001b[0m: TensorArray has size zero, but element shape [?,32] is not fully defined. Currently only static shapes are supported when packing zero-size TensorArrays.\n\t [[{{node counting_lstm_1/TensorArrayStack/TensorArrayGatherV3}}]]"
     ]
    }
   ],
   "source": [
    "n_timesteps, n_features = None, 512\n",
    "input_shape=(n_timesteps, n_features)\n",
    "\n",
    "#Embedding model\n",
    "model = conv1d_embedding_model(input_shape)\n",
    "#LSTM for counting\n",
    "H, H_test = lstm_counting_model(model, train_gen, val_gen, test_gen, n_bins)"
   ]
  },
  {
   "cell_type": "markdown",
   "metadata": {},
   "source": [
    "**LSTM-LSTM Model with STFT**"
   ]
  },
  {
   "cell_type": "code",
   "execution_count": null,
   "metadata": {},
   "outputs": [],
   "source": [
    "n_timesteps, n_features = None, 512\n",
    "input_shape = (n_timesteps, n_features)\n",
    "\n",
    "model = lstm_embedding_model(input_shape)\n",
    "H, H_test = lstm_counting_model(model, train_gen, val_gen, test_gen, n_bins)"
   ]
  },
  {
   "cell_type": "code",
   "execution_count": null,
   "metadata": {},
   "outputs": [],
   "source": [
    "data_type = 'time'\n",
    "window = 256\n",
    "batch_size, epochs = 64, 10\n",
    "\n",
    "if data_type == 'stft':\n",
    "    fileloc = '/scratch/sk7898/pedbike/window_256/downstream_stft'\n",
    "else:\n",
    "    fileloc = '/scratch/sk7898/pedbike/window_256/downstream_time'\n",
    "    \n",
    "x_train, x_val, x_test, y_train, y_val, y_test, seqs_train, seqs_val, seqs_test = get_data(fileloc)\n",
    "assert x_train.shape[0] == y_train.shape[0] == seqs_train.shape[0]\n",
    "\n",
    "n_bins = int(len(seqs_train)/batch_size)\n",
    "\n",
    "train_gen = train_generator(n_bins, x_train, y_train, seq_lengths=seqs_train, padding=True, padding_value=0.0)\n",
    "val_gen = val_generator(x_val, y_val)\n",
    "test_gen = val_generator(x_test, y_test)"
   ]
  },
  {
   "cell_type": "markdown",
   "metadata": {},
   "source": [
    "**Conv1D Model with Time-Series**"
   ]
  },
  {
   "cell_type": "code",
   "execution_count": null,
   "metadata": {},
   "outputs": [],
   "source": [
    "n_timesteps, n_features = None, 512\n",
    "input_shape=(n_timesteps, n_features)\n",
    "\n",
    "model = conv1d_embedding_model(input_shape, reshape=(-1, 2))\n",
    "H, H_test = lstm_counting_model(model, train_gen, val_gen, test_gen, n_bins)"
   ]
  },
  {
   "cell_type": "markdown",
   "metadata": {},
   "source": [
    "**LSTM-LSTM Model with Time-Series**"
   ]
  },
  {
   "cell_type": "code",
   "execution_count": null,
   "metadata": {},
   "outputs": [],
   "source": [
    "n_timesteps, n_features = None, 512\n",
    "input_shape = (n_timesteps, n_features)\n",
    "\n",
    "model = lstm_embedding_model(input_shape, reshape=(-1, 2))\n",
    "H, H_test = lstm_counting_model(model, train_gen, val_gen, test_gen, n_bins)"
   ]
  }
 ],
 "metadata": {
  "kernelspec": {
   "display_name": "Python 3",
   "language": "python",
   "name": "python3"
  },
  "language_info": {
   "codemirror_mode": {
    "name": "ipython",
    "version": 3
   },
   "file_extension": ".py",
   "mimetype": "text/x-python",
   "name": "python",
   "nbconvert_exporter": "python",
   "pygments_lexer": "ipython3",
   "version": "3.6.3"
  }
 },
 "nbformat": 4,
 "nbformat_minor": 2
}
