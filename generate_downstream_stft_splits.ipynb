{
 "cells": [
  {
   "cell_type": "code",
   "execution_count": 1,
   "metadata": {},
   "outputs": [],
   "source": [
    "import os\n",
    "import numpy as np\n",
    "import random\n",
    "from sklearn.model_selection import train_test_split\n",
    "from pathlib import PurePath\n",
    "from shutil import copy"
   ]
  },
  {
   "cell_type": "code",
   "execution_count": 5,
   "metadata": {},
   "outputs": [],
   "source": [
    "window = 256\n",
    "fileloc = '/scratch/sk7898/pedbike/window_256'\n",
    "data_type = 'downstream'\n",
    "if data_type == 'downstream':\n",
    "    filestrs = ['downstream/Human/human_radial_cuts_stft', 'downstream/Bike/bike_radial_cuts_stft']\n",
    "    classes = ['Human', 'Bike']\n",
    "    val_split = 0.1\n",
    "    test_split = 0.1"
   ]
  },
  {
   "cell_type": "code",
   "execution_count": 6,
   "metadata": {},
   "outputs": [],
   "source": [
    "outdir = fileloc\n",
    "path_prefix = 'downstream_stft'\n",
    "filenames = []\n",
    "data = []\n",
    "labels = []\n",
    "seqs = []\n",
    "\n",
    "[[filenames.append(os.path.join(os.path.join(fileloc, filestr), filename))for filename in os.listdir(os.path.join(fileloc, filestr))] for filestr in filestrs]\n",
    "\n",
    "[[data.append(np.fromfile(open(os.path.join(os.path.join(fileloc, filestr), filename), \"r\"), dtype=np.float64).reshape(-1, window*2))\n",
    "      for filename in os.listdir(os.path.join(fileloc, filestr))] for filestr in filestrs]\n",
    "data = np.array(data)\n",
    "\n",
    "[labels.append(int((fname.split('_')[-1]).split('p')[0])) for fname in filenames]\n",
    "labels = np.array(labels)\n",
    "\n",
    "[seqs.append(int(fname.split('_')[-3])) for fname in filenames]\n",
    "seqs = np.array(seqs)"
   ]
  },
  {
   "cell_type": "code",
   "execution_count": 7,
   "metadata": {},
   "outputs": [],
   "source": [
    "indices = np.arange(len(filenames))\n",
    "X_train, X_val, y_train, y_val, indices_train, indices_val, seqs_train, seqs_val = train_test_split(data, labels,\\\n",
    "                                                                                                    indices, seqs,\\\n",
    "                                                                                                    test_size=val_split,\\\n",
    "                                                                                                    random_state=42)\n",
    "\n",
    "X_train, X_test, y_train, y_test, indices_train, indices_test, seqs_train, seqs_test = train_test_split(X_train, y_train,\\\n",
    "                                                                                                        indices_train,\\\n",
    "                                                                                                        seqs_train,\\\n",
    "                                                                                                        test_size=test_split,\\\n",
    "                                                                                                        random_state=42)\n",
    "os.makedirs(outdir, exist_ok=True)\n",
    "os.makedirs(os.path.join(outdir, path_prefix), exist_ok=True)\n",
    "\n",
    "# Save train data\n",
    "np.save(os.path.join(outdir, path_prefix, \"train.npy\"), X_train)\n",
    "np.save(os.path.join(outdir, path_prefix, \"train_seqs.npy\"), seqs_train)\n",
    "np.save(os.path.join(outdir, path_prefix, \"train_lbls.npy\"), y_train)\n",
    "\n",
    "# Save validation data\n",
    "np.save(os.path.join(outdir, path_prefix, \"val.npy\"), X_val)\n",
    "np.save(os.path.join(outdir, path_prefix, \"val_seqs.npy\"), seqs_val)\n",
    "np.save(os.path.join(outdir, path_prefix, \"val_lbls.npy\"), y_val)\n",
    "\n",
    "# Save test data\n",
    "np.save(os.path.join(outdir, path_prefix, \"test.npy\"), X_test)\n",
    "np.save(os.path.join(outdir, path_prefix, \"test_seqs.npy\"), seqs_test)\n",
    "np.save(os.path.join(outdir, path_prefix, \"test_lbls.npy\"), y_test)"
   ]
  },
  {
   "cell_type": "code",
   "execution_count": 8,
   "metadata": {},
   "outputs": [],
   "source": [
    "files_train = [filenames[i] for i in indices_train]\n",
    "files_val = [filenames[i] for i in indices_val]\n",
    "files_test = [filenames[i] for i in indices_test]\n",
    "\n",
    "train_dir = os.path.join(outdir, path_prefix, \"stft_train\")\n",
    "val_dir = os.path.join(outdir, path_prefix, \"stft_val\")\n",
    "test_dir = os.path.join(outdir, path_prefix, \"stft_test\")\n",
    "\n",
    "for cls in classes:\n",
    "    os.makedirs(os.path.join(train_dir,cls), exist_ok=True)\n",
    "    os.makedirs(os.path.join(val_dir,cls), exist_ok=True)\n",
    "    os.makedirs(os.path.join(test_dir,cls), exist_ok=True)\n",
    "\n",
    "for tr in files_train:\n",
    "    cur_class = PurePath(tr).parent.name.split('_')[0]\n",
    "    copy(tr, os.path.join(train_dir,cur_class))\n",
    "\n",
    "for val in files_val:\n",
    "    cur_class = PurePath(val).parent.name.split('_')[0]\n",
    "    copy(val, os.path.join(val_dir, cur_class))\n",
    "    \n",
    "for tst in files_test:\n",
    "    cur_class = PurePath(tst).parent.name.split('_')[0]\n",
    "    copy(tst, os.path.join(test_dir, cur_class))"
   ]
  },
  {
   "cell_type": "code",
   "execution_count": 9,
   "metadata": {},
   "outputs": [
    {
     "name": "stdout",
     "output_type": "stream",
     "text": [
      "Total Dataset Size: 955\n",
      "Train Dataset Size: 773\n",
      "Humans in Train: 375\n",
      "Bikes in Train: 398\n",
      "Validation Dataset Size: 96\n"
     ]
    }
   ],
   "source": [
    "indices_human_train = [idx for idx in indices_train if 'Human' in os.path.basename(filenames[idx])]\n",
    "indices_bike_train = [idx for idx in indices_train if 'Bike' in os.path.basename(filenames[idx])]\n",
    "\n",
    "print('Total Dataset Size:', len(labels))\n",
    "print('Train Dataset Size:', len(y_train))\n",
    "print('Humans in Train:', len(indices_human_train))\n",
    "print('Bikes in Train:', len(indices_bike_train))\n",
    "print('Validation Dataset Size:', len(y_val))"
   ]
  },
  {
   "cell_type": "markdown",
   "metadata": {},
   "source": [
    "**Train**\n",
    "\n",
    "*Humans: 375*\n",
    "*Bikes: 398*\n",
    "    \n",
    "**Validation**\n",
    "\n",
    "*Humans: 45*\n",
    "*Bikes: 51*\n",
    "    \n",
    "**Test**\n",
    "\n",
    "*Humans: 45*\n",
    "*Bikes: 41*"
   ]
  }
 ],
 "metadata": {
  "kernelspec": {
   "display_name": "Python 3",
   "language": "python",
   "name": "python3"
  },
  "language_info": {
   "codemirror_mode": {
    "name": "ipython",
    "version": 3
   },
   "file_extension": ".py",
   "mimetype": "text/x-python",
   "name": "python",
   "nbconvert_exporter": "python",
   "pygments_lexer": "ipython3",
   "version": "3.6.3"
  }
 },
 "nbformat": 4,
 "nbformat_minor": 2
}
