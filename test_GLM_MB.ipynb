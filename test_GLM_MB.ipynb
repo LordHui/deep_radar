{
 "cells": [
  {
   "cell_type": "code",
   "execution_count": 1,
   "metadata": {},
   "outputs": [],
   "source": [
    "# Reference: https://github.com/statsmodels/statsmodels/blob/master/examples/notebooks/generic_mle.ipynb\n",
    "%matplotlib inline\n",
    "import numpy as np\n",
    "import patsy\n",
    "import pandas as pd\n",
    "from scipy import stats\n",
    "import statsmodels.api as sm\n",
    "from sklearn.model_selection import train_test_split\n",
    "from sklearn import preprocessing\n",
    "from scipy.stats import nbinom\n",
    "from statsmodels.base.model import GenericLikelihoodModel\n",
    "from matplotlib import pyplot as plt\n",
    "from sklearn.metrics import mean_absolute_error"
   ]
  },
  {
   "cell_type": "code",
   "execution_count": 21,
   "metadata": {},
   "outputs": [
    {
     "name": "stdout",
     "output_type": "stream",
     "text": [
      "Index(['th_2_numHitBins_max', 'th_2_numHitBins_median', 'th_6_moment_sum',\n",
      "       'th_6_freqWidth', 'th_8_numHitBins_var', 'th_16_moment_sum',\n",
      "       'th_42_moment_sum', 'th_46_maxFreq', 'th_62_numHitBins_median',\n",
      "       'th_90_moment_sum', 'th_98_numHitBins_median', 'th_158_maxFreq',\n",
      "       'th_198_maxFreq', 'Target', 'classLabel'],\n",
      "      dtype='object')\n"
     ]
    }
   ],
   "source": [
    "data_file = '/scratch/sk7898/pedbike/1006_f_465_humans_490_bikes_13_feats.csv'\n",
    "data  = pd.read_csv(data_file)\n",
    "print(data.columns)"
   ]
  },
  {
   "cell_type": "code",
   "execution_count": 13,
   "metadata": {},
   "outputs": [],
   "source": [
    "train, test = train_test_split(data, train_size=0.7, random_state=42)\n",
    "y_train, X_train = patsy.dmatrices('Target ~ th_2_numHitBins_max + th_2_numHitBins_median + th_6_moment_sum + th_6_freqWidth + th_8_numHitBins_var + th_16_moment_sum + th_42_moment_sum + th_46_maxFreq + th_62_numHitBins_median + th_90_moment_sum + th_98_numHitBins_median + th_198_maxFreq', data=train)\n",
    "y_test, X_test = patsy.dmatrices('Target ~ th_2_numHitBins_max + th_2_numHitBins_median + th_6_moment_sum + th_6_freqWidth + th_8_numHitBins_var + th_16_moment_sum + th_42_moment_sum + th_46_maxFreq + th_62_numHitBins_median + th_90_moment_sum + th_98_numHitBins_median + th_198_maxFreq', data=test)\n",
    "#X_train = preprocessing.normalize(X_train)\n",
    "#X_test = preprocessing.normalize(X_test)"
   ]
  },
  {
   "cell_type": "code",
   "execution_count": 14,
   "metadata": {},
   "outputs": [
    {
     "name": "stdout",
     "output_type": "stream",
     "text": [
      "                 Generalized Linear Model Regression Results                  \n",
      "==============================================================================\n",
      "Dep. Variable:                      y   No. Observations:                  955\n",
      "Model:                            GLM   Df Residuals:                      942\n",
      "Model Family:        NegativeBinomial   Df Model:                           12\n",
      "Link Function:                    log   Scale:                          1.0000\n",
      "Method:                          IRLS   Log-Likelihood:                -1920.9\n",
      "Date:                Thu, 14 Nov 2019   Deviance:                       95.146\n",
      "Time:                        12:53:11   Pearson chi2:                     115.\n",
      "No. Iterations:                     6                                         \n",
      "Covariance Type:            nonrobust                                         \n",
      "===========================================================================================\n",
      "                              coef    std err          z      P>|z|      [0.025      0.975]\n",
      "-------------------------------------------------------------------------------------------\n",
      "Intercept                  -0.0905      0.505     -0.179      0.858      -1.079       0.898\n",
      "th_2_numHitBins_max        -0.0031      0.005     -0.637      0.524      -0.013       0.006\n",
      "th_2_numHitBins_median      0.0039      0.005      0.828      0.408      -0.005       0.013\n",
      "th_6_moment_sum         -1.377e-06   6.91e-06     -0.199      0.842   -1.49e-05    1.22e-05\n",
      "th_6_freqWidth              0.0023      0.004      0.650      0.516      -0.005       0.009\n",
      "th_8_numHitBins_var     -8.692e-05      0.000     -0.417      0.677      -0.000       0.000\n",
      "th_16_moment_sum         5.757e-06   1.88e-05      0.306      0.760   -3.12e-05    4.27e-05\n",
      "th_42_moment_sum         2.458e-05   3.36e-05      0.732      0.464   -4.13e-05    9.04e-05\n",
      "th_46_maxFreq               0.0032      0.003      1.250      0.211      -0.002       0.008\n",
      "th_62_numHitBins_median    -0.0121      0.026     -0.470      0.638      -0.062       0.038\n",
      "th_90_moment_sum        -2.642e-05   3.02e-05     -0.876      0.381   -8.55e-05    3.27e-05\n",
      "th_98_numHitBins_median    -0.0043      0.033     -0.128      0.898      -0.070       0.061\n",
      "th_198_maxFreq              0.0018      0.002      1.012      0.312      -0.002       0.005\n",
      "===========================================================================================\n"
     ]
    }
   ],
   "source": [
    "nb_results = sm.GLM(y_train.astype(int), X_train, family=sm.families.NegativeBinomial()).fit()\n",
    "print(nb_results.summary())"
   ]
  },
  {
   "cell_type": "code",
   "execution_count": 72,
   "metadata": {},
   "outputs": [
    {
     "name": "stdout",
     "output_type": "stream",
     "text": [
      "['Intercept', 'th_2_numHitBins_max', 'th_2_numHitBins_median', 'th_6_moment_sum', 'th_6_freqWidth', 'th_8_numHitBins_var', 'th_16_moment_sum', 'th_42_moment_sum', 'th_46_maxFreq', 'th_62_numHitBins_median', 'th_90_moment_sum', 'th_98_numHitBins_median', 'th_198_maxFreq']\n",
      "Target\n"
     ]
    }
   ],
   "source": [
    "print(nb_results.model.exog_names)\n",
    "print(nb_results.model.endog_names)"
   ]
  },
  {
   "cell_type": "code",
   "execution_count": 16,
   "metadata": {},
   "outputs": [
    {
     "name": "stdout",
     "output_type": "stream",
     "text": [
      "(955, 13)\n"
     ]
    }
   ],
   "source": [
    "print(X_train.shape)\n",
    "print(X_test.shape)"
   ]
  },
  {
   "cell_type": "code",
   "execution_count": 17,
   "metadata": {},
   "outputs": [],
   "source": [
    "print_pred = False\n",
    "y_pred_test = nb_results.predict(X_test)\n",
    "y_pred_train = nb_results.predict(X_train)\n",
    "if print_pred:\n",
    "    for y_p, y_t in zip(y_pred_test.astype(np.int8), test.Target):\n",
    "        print(y_p, y_t)\n",
    "    \n",
    "    for y_p, y_t in zip(y_pred_train.astype(np.int8), train.Target):\n",
    "        print(y_p, y_t)"
   ]
  },
  {
   "cell_type": "code",
   "execution_count": 20,
   "metadata": {},
   "outputs": [
    {
     "name": "stdout",
     "output_type": "stream",
     "text": [
      "0.6083769633507854\n"
     ]
    }
   ],
   "source": [
    "print(mean_absolute_error(y_train.astype(np.int8), y_pred_train.astype(np.int8)))\n",
    "print(mean_absolute_error(test.Target, y_pred_test.astype(np.int8)))"
   ]
  },
  {
   "cell_type": "markdown",
   "metadata": {},
   "source": [
    "**Summary**\n",
    "\n",
    "*Train Shape: (668, 13)*\\\n",
    "*Test Shape: (287, 13)*\\\n",
    "\\\n",
    "*Without normalization*\n",
    "* Train MAE:0.6152694610778443\n",
    "* Test MAE: 0.6097560975609756 \n",
    "\n",
    "*With normalization*\n",
    "* Train MAE: 0.6916167664670658\n",
    "* Test MAE: 0.6724738675958188\n",
    "\n",
    "*If all the samples were used for Train i.e. (955, 13)*\n",
    "* MAE: 0.6083769633507854"
   ]
  },
  {
   "cell_type": "code",
   "execution_count": 91,
   "metadata": {},
   "outputs": [],
   "source": [
    "nobs = nb_results.nobs\n",
    "y = nb_results.model.endog/nb_results.model.endog.sum()\n",
    "yhat = nb_results.mu"
   ]
  },
  {
   "cell_type": "code",
   "execution_count": 98,
   "metadata": {},
   "outputs": [
    {
     "data": {
      "image/png": "[encoded data removed]",
      "text/plain": [
       "<Figure size 432x288 with 1 Axes>"
      ]
     },
     "metadata": {
      "needs_background": "light"
     },
     "output_type": "display_data"
    }
   ],
   "source": [
    "from statsmodels.graphics.api import abline_plot\n",
    "\n",
    "fig, ax = plt.subplots()\n",
    "ax.scatter(yhat, y)\n",
    "line_fit = sm.OLS(y, sm.add_constant(yhat, prepend=True)).fit()\n",
    "abline_plot(model_results=line_fit, ax=ax)\n",
    "\n",
    "\n",
    "ax.set_title('Model Fit Plot')\n",
    "ax.set_ylabel('Observed values')\n",
    "ax.set_xlabel('Fitted values');"
   ]
  },
  {
   "cell_type": "markdown",
   "metadata": {},
   "source": [
    "**Study with 2 Counters**"
   ]
  },
  {
   "cell_type": "code",
   "execution_count": 23,
   "metadata": {},
   "outputs": [],
   "source": [
    "data_bike = data[data.classLabel == \"Bike\"]\n",
    "data_ped = data[data.classLabel == \"Human\"]\n",
    "\n",
    "train_bike, test_bike = train_test_split(data_bike, train_size=0.7, random_state=42)\n",
    "y_bike_train, X_bike_train = patsy.dmatrices('Target ~ th_2_numHitBins_max + th_2_numHitBins_median + th_6_moment_sum + th_6_freqWidth + th_8_numHitBins_var + th_16_moment_sum + th_42_moment_sum + th_46_maxFreq + th_62_numHitBins_median + th_90_moment_sum + th_98_numHitBins_median + th_198_maxFreq', data=train_bike)\n",
    "y_bike_test, X_bike_test = patsy.dmatrices('Target ~ th_2_numHitBins_max + th_2_numHitBins_median + th_6_moment_sum + th_6_freqWidth + th_8_numHitBins_var + th_16_moment_sum + th_42_moment_sum + th_46_maxFreq + th_62_numHitBins_median + th_90_moment_sum + th_98_numHitBins_median + th_198_maxFreq', data=test_bike)\n",
    "\n",
    "train_ped, test_ped = train_test_split(data_ped, train_size=0.7, random_state=42)\n",
    "y_ped_train, X_ped_train = patsy.dmatrices('Target ~ th_2_numHitBins_max + th_2_numHitBins_median + th_6_moment_sum + th_6_freqWidth + th_8_numHitBins_var + th_16_moment_sum + th_42_moment_sum + th_46_maxFreq + th_62_numHitBins_median + th_90_moment_sum + th_98_numHitBins_median + th_198_maxFreq', data=train_ped)\n",
    "y_ped_test, X_ped_test = patsy.dmatrices('Target ~ th_2_numHitBins_max + th_2_numHitBins_median + th_6_moment_sum + th_6_freqWidth + th_8_numHitBins_var + th_16_moment_sum + th_42_moment_sum + th_46_maxFreq + th_62_numHitBins_median + th_90_moment_sum + th_98_numHitBins_median + th_198_maxFreq', data=test_ped)"
   ]
  },
  {
   "cell_type": "code",
   "execution_count": 27,
   "metadata": {},
   "outputs": [
    {
     "name": "stdout",
     "output_type": "stream",
     "text": [
      "(325, 13)\n",
      "(140, 13)\n"
     ]
    }
   ],
   "source": [
    "print(X_ped_train.shape)\n",
    "print(X_ped_test.shape)"
   ]
  },
  {
   "cell_type": "code",
   "execution_count": 24,
   "metadata": {},
   "outputs": [
    {
     "name": "stdout",
     "output_type": "stream",
     "text": [
      "0.5801749271137027\n",
      "0.4965986394557823\n"
     ]
    }
   ],
   "source": [
    "nb_bike = sm.GLM(y_bike_train.astype(int), X_bike_train, family=sm.families.NegativeBinomial()).fit()\n",
    "y_pred_bike_train = nb_bike.predict(X_bike_train)\n",
    "y_pred_bike_test = nb_bike.predict(X_bike_test)\n",
    "print(mean_absolute_error(y_bike_train.astype(np.int8), y_pred_bike_train.astype(np.int8)))\n",
    "print(mean_absolute_error(y_bike_test.astype(np.int8), y_pred_bike_test.astype(np.int8)))"
   ]
  },
  {
   "cell_type": "code",
   "execution_count": 25,
   "metadata": {},
   "outputs": [
    {
     "name": "stdout",
     "output_type": "stream",
     "text": [
      "0.5507692307692308\n",
      "0.5928571428571429\n"
     ]
    }
   ],
   "source": [
    "nb_ped  = sm.GLM(y_ped_train.astype(int), X_ped_train, family=sm.families.NegativeBinomial()).fit()\n",
    "y_pred_ped_train = nb_ped.predict(X_ped_train)\n",
    "y_pred_ped_test = nb_ped.predict(X_ped_test)\n",
    "print(mean_absolute_error(y_ped_train.astype(np.int8), y_pred_ped_train.astype(np.int8)))\n",
    "print(mean_absolute_error(y_ped_test.astype(np.int8), y_pred_ped_test.astype(np.int8)))"
   ]
  },
  {
   "cell_type": "markdown",
   "metadata": {},
   "source": [
    "**Summary**\n",
    "\n",
    "**Human Counter**\n",
    "* Train Shape: (325, 13)\n",
    "* Test Shape: (140, 13)\n",
    "\n",
    "* Train MAE:0.5507692307692308\n",
    "* Test MAE: 0.5928571428571429 \n",
    "\n",
    "**Bike Counter**\n",
    "* Train Shape: (343, 13)\n",
    "* Test Shape: (147, 13)\n",
    "    \n",
    "* Train MAE: 0.5801749271137027\n",
    "* Test MAE: 0.4965986394557823"
   ]
  },
  {
   "cell_type": "code",
   "execution_count": null,
   "metadata": {},
   "outputs": [],
   "source": []
  }
 ],
 "metadata": {
  "kernelspec": {
   "display_name": "Python 3",
   "language": "python",
   "name": "python3"
  },
  "language_info": {
   "codemirror_mode": {
    "name": "ipython",
    "version": 3
   },
   "file_extension": ".py",
   "mimetype": "text/x-python",
   "name": "python",
   "nbconvert_exporter": "python",
   "pygments_lexer": "ipython3",
   "version": "3.6.3"
  }
 },
 "nbformat": 4,
 "nbformat_minor": 2
}
