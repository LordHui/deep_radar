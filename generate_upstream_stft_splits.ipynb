{
 "cells": [
  {
   "cell_type": "code",
   "execution_count": 4,
   "metadata": {},
   "outputs": [],
   "source": [
    "import os\n",
    "import numpy as np\n",
    "import random\n",
    "from sklearn.model_selection import train_test_split\n",
    "from pathlib import PurePath\n",
    "from shutil import copy"
   ]
  },
  {
   "cell_type": "code",
   "execution_count": 5,
   "metadata": {},
   "outputs": [],
   "source": [
    "window = 256\n",
    "fileloc = '/scratch/sk7898/pedbike/window_256'\n",
    "data_type = 'upstream'\n",
    "if data_type == 'upstream':\n",
    "    filestrs = ['upstream_stft/Human/human_cuts_stft', 'upstream_stft/Nonhuman/non_human_cuts_stft']\n",
    "    add_humans = None\n",
    "    add_non_humans = ['downstream/Bike/bike_radial_cuts_stft']    \n",
    "    classes = ['Human', 'Nonhuman']\n",
    "    val_split = 0.2\n",
    "    add_fraction = 0.1"
   ]
  },
  {
   "cell_type": "code",
   "execution_count": 6,
   "metadata": {},
   "outputs": [
    {
     "ename": "FileNotFoundError",
     "evalue": "[Errno 2] No such file or directory: '/scratch/sk7898/pedbike/window_256/downstream/Bike/bike_radial_cuts_stft'",
     "output_type": "error",
     "traceback": [
      "\u001b[0;31m---------------------------------------------------------------------------\u001b[0m",
      "\u001b[0;31mFileNotFoundError\u001b[0m                         Traceback (most recent call last)",
      "\u001b[0;32m<ipython-input-6-d838f1576526>\u001b[0m in \u001b[0;36m<module>\u001b[0;34m()\u001b[0m\n\u001b[1;32m     40\u001b[0m     \u001b[0mnon_human_seqs\u001b[0m \u001b[0;34m=\u001b[0m \u001b[0;34m[\u001b[0m\u001b[0;34m]\u001b[0m\u001b[0;34m\u001b[0m\u001b[0m\n\u001b[1;32m     41\u001b[0m \u001b[0;34m\u001b[0m\u001b[0m\n\u001b[0;32m---> 42\u001b[0;31m     \u001b[0;34m[\u001b[0m\u001b[0;34m[\u001b[0m\u001b[0mnon_human_filenames\u001b[0m\u001b[0;34m.\u001b[0m\u001b[0mappend\u001b[0m\u001b[0;34m(\u001b[0m\u001b[0mos\u001b[0m\u001b[0;34m.\u001b[0m\u001b[0mpath\u001b[0m\u001b[0;34m.\u001b[0m\u001b[0mjoin\u001b[0m\u001b[0;34m(\u001b[0m\u001b[0mos\u001b[0m\u001b[0;34m.\u001b[0m\u001b[0mpath\u001b[0m\u001b[0;34m.\u001b[0m\u001b[0mjoin\u001b[0m\u001b[0;34m(\u001b[0m\u001b[0mfileloc\u001b[0m\u001b[0;34m,\u001b[0m \u001b[0mfilestr\u001b[0m\u001b[0;34m)\u001b[0m\u001b[0;34m,\u001b[0m \u001b[0mfilename\u001b[0m\u001b[0;34m)\u001b[0m\u001b[0;34m)\u001b[0m      \u001b[0;32mfor\u001b[0m \u001b[0mfilename\u001b[0m \u001b[0;32min\u001b[0m \u001b[0mos\u001b[0m\u001b[0;34m.\u001b[0m\u001b[0mlistdir\u001b[0m\u001b[0;34m(\u001b[0m\u001b[0mos\u001b[0m\u001b[0;34m.\u001b[0m\u001b[0mpath\u001b[0m\u001b[0;34m.\u001b[0m\u001b[0mjoin\u001b[0m\u001b[0;34m(\u001b[0m\u001b[0mfileloc\u001b[0m\u001b[0;34m,\u001b[0m \u001b[0mfilestr\u001b[0m\u001b[0;34m)\u001b[0m\u001b[0;34m)\u001b[0m\u001b[0;34m]\u001b[0m \u001b[0;32mfor\u001b[0m \u001b[0mfilestr\u001b[0m \u001b[0;32min\u001b[0m \u001b[0madd_non_humans\u001b[0m\u001b[0;34m]\u001b[0m\u001b[0;34m\u001b[0m\u001b[0m\n\u001b[0m\u001b[1;32m     43\u001b[0m \u001b[0;34m\u001b[0m\u001b[0m\n\u001b[1;32m     44\u001b[0m     \u001b[0mnon_human_indices\u001b[0m \u001b[0;34m=\u001b[0m \u001b[0mnp\u001b[0m\u001b[0;34m.\u001b[0m\u001b[0marange\u001b[0m\u001b[0;34m(\u001b[0m\u001b[0mlen\u001b[0m\u001b[0;34m(\u001b[0m\u001b[0mnon_human_filenames\u001b[0m\u001b[0;34m)\u001b[0m\u001b[0;34m)\u001b[0m\u001b[0;34m\u001b[0m\u001b[0m\n",
      "\u001b[0;32m<ipython-input-6-d838f1576526>\u001b[0m in \u001b[0;36m<listcomp>\u001b[0;34m(.0)\u001b[0m\n\u001b[1;32m     40\u001b[0m     \u001b[0mnon_human_seqs\u001b[0m \u001b[0;34m=\u001b[0m \u001b[0;34m[\u001b[0m\u001b[0;34m]\u001b[0m\u001b[0;34m\u001b[0m\u001b[0m\n\u001b[1;32m     41\u001b[0m \u001b[0;34m\u001b[0m\u001b[0m\n\u001b[0;32m---> 42\u001b[0;31m     \u001b[0;34m[\u001b[0m\u001b[0;34m[\u001b[0m\u001b[0mnon_human_filenames\u001b[0m\u001b[0;34m.\u001b[0m\u001b[0mappend\u001b[0m\u001b[0;34m(\u001b[0m\u001b[0mos\u001b[0m\u001b[0;34m.\u001b[0m\u001b[0mpath\u001b[0m\u001b[0;34m.\u001b[0m\u001b[0mjoin\u001b[0m\u001b[0;34m(\u001b[0m\u001b[0mos\u001b[0m\u001b[0;34m.\u001b[0m\u001b[0mpath\u001b[0m\u001b[0;34m.\u001b[0m\u001b[0mjoin\u001b[0m\u001b[0;34m(\u001b[0m\u001b[0mfileloc\u001b[0m\u001b[0;34m,\u001b[0m \u001b[0mfilestr\u001b[0m\u001b[0;34m)\u001b[0m\u001b[0;34m,\u001b[0m \u001b[0mfilename\u001b[0m\u001b[0;34m)\u001b[0m\u001b[0;34m)\u001b[0m      \u001b[0;32mfor\u001b[0m \u001b[0mfilename\u001b[0m \u001b[0;32min\u001b[0m \u001b[0mos\u001b[0m\u001b[0;34m.\u001b[0m\u001b[0mlistdir\u001b[0m\u001b[0;34m(\u001b[0m\u001b[0mos\u001b[0m\u001b[0;34m.\u001b[0m\u001b[0mpath\u001b[0m\u001b[0;34m.\u001b[0m\u001b[0mjoin\u001b[0m\u001b[0;34m(\u001b[0m\u001b[0mfileloc\u001b[0m\u001b[0;34m,\u001b[0m \u001b[0mfilestr\u001b[0m\u001b[0;34m)\u001b[0m\u001b[0;34m)\u001b[0m\u001b[0;34m]\u001b[0m \u001b[0;32mfor\u001b[0m \u001b[0mfilestr\u001b[0m \u001b[0;32min\u001b[0m \u001b[0madd_non_humans\u001b[0m\u001b[0;34m]\u001b[0m\u001b[0;34m\u001b[0m\u001b[0m\n\u001b[0m\u001b[1;32m     43\u001b[0m \u001b[0;34m\u001b[0m\u001b[0m\n\u001b[1;32m     44\u001b[0m     \u001b[0mnon_human_indices\u001b[0m \u001b[0;34m=\u001b[0m \u001b[0mnp\u001b[0m\u001b[0;34m.\u001b[0m\u001b[0marange\u001b[0m\u001b[0;34m(\u001b[0m\u001b[0mlen\u001b[0m\u001b[0;34m(\u001b[0m\u001b[0mnon_human_filenames\u001b[0m\u001b[0;34m)\u001b[0m\u001b[0;34m)\u001b[0m\u001b[0;34m\u001b[0m\u001b[0m\n",
      "\u001b[0;31mFileNotFoundError\u001b[0m: [Errno 2] No such file or directory: '/scratch/sk7898/pedbike/window_256/downstream/Bike/bike_radial_cuts_stft'"
     ]
    }
   ],
   "source": [
    "outdir = fileloc\n",
    "path_prefix = 'upstream_stft'\n",
    "filenames = []\n",
    "data = []\n",
    "labels = []\n",
    "seqs = []\n",
    "\n",
    "[[filenames.append(os.path.join(os.path.join(fileloc, filestr), filename))\\\n",
    "  for filename in os.listdir(os.path.join(fileloc, filestr))] for filestr in filestrs]\n",
    "\n",
    "[data.append(np.fromfile(open(filename, \"r\"), dtype=np.float64).reshape(-1, window*2)) for filename in filenames]\n",
    "[labels.append(int(fname.split('_')[-1][0])) for fname in filenames]\n",
    "[seqs.append(int(fname.split('_')[-3])) for fname in filenames]\n",
    "\n",
    "if add_humans:\n",
    "    human_filenames = []\n",
    "    human_data = []\n",
    "    human_labels = []\n",
    "    human_seqs = []\n",
    "    \n",
    "    [[human_filenames.append(os.path.join(os.path.join(fileloc, filestr), filename))\\\n",
    "      for filename in os.listdir(os.path.join(fileloc, filestr))] for filestr in add_humans]\n",
    "    \n",
    "    human_indices = np.arange(len(human_filenames))\n",
    "    human_indices = random.sample(human_indices.tolist(), k = int(add_fraction*len(human_filenames)))\n",
    "    human_filenames = [human_filenames[i] for i in human_indices]\n",
    "    \n",
    "    [human_data.append(np.fromfile(open(filename, \"r\"), dtype=np.float64).reshape(-1, window*2))\n",
    "      for filename in human_filenames]\n",
    "    [human_labels.append(0) for fname in human_filenames]\n",
    "    [human_seqs.append(int(fname.split('_')[-3])) for fname in human_filenames]\n",
    "    \n",
    "    filenames += human_filenames\n",
    "    data += human_data\n",
    "    labels += human_labels\n",
    "    seqs += human_seqs\n",
    "    \n",
    "if add_non_humans:\n",
    "    non_human_filenames = []\n",
    "    non_human_data = []\n",
    "    non_human_labels = []\n",
    "    non_human_seqs = []\n",
    "    \n",
    "    [[non_human_filenames.append(os.path.join(os.path.join(fileloc, filestr), filename))\\\n",
    "      for filename in os.listdir(os.path.join(fileloc, filestr))] for filestr in add_non_humans]\n",
    "    \n",
    "    non_human_indices = np.arange(len(non_human_filenames))\n",
    "    non_human_indices = random.sample(non_human_indices.tolist(), k = int(add_fraction*len(non_human_filenames)))\n",
    "    non_human_filenames = [non_human_filenames[i] for i in non_human_indices]\n",
    "    \n",
    "    [non_human_data.append(np.fromfile(open(filename, \"r\"), dtype=np.float64).reshape(-1, window*2))\\\n",
    "     for filename in non_human_filenames]\n",
    "    [non_human_labels.append(1) for fname in non_human_filenames]\n",
    "    [non_human_seqs.append(int(fname.split('_')[-3])) for fname in non_human_filenames]\n",
    "    \n",
    "    filenames += non_human_filenames\n",
    "    data += non_human_data\n",
    "    labels += non_human_labels\n",
    "    seqs += non_human_seqs\n",
    "\n",
    "data = np.array(data)\n",
    "labels = np.array(labels)\n",
    "seqs = np.array(seqs)"
   ]
  },
  {
   "cell_type": "code",
   "execution_count": 21,
   "metadata": {},
   "outputs": [],
   "source": [
    "indices = np.arange(len(filenames))\n",
    "X_train, X_val, y_train, y_val, indices_train, indices_val, seqs_train, seqs_val = train_test_split(data, labels,\\\n",
    "                                                                                                    indices, seqs, \\\n",
    "                                                                                                    test_size=val_split,\\\n",
    "                                                                                                    random_state=42)\n",
    "\n",
    "os.makedirs(outdir, exist_ok=True)\n",
    "os.makedirs(os.path.join(outdir, path_prefix), exist_ok=True)\n",
    "\n",
    "# Save train data\n",
    "np.save(os.path.join(outdir, path_prefix, \"train.npy\"), X_train)\n",
    "np.save(os.path.join(outdir, path_prefix, \"train_seqs.npy\"), seqs_train)\n",
    "np.save(os.path.join(outdir, path_prefix, \"train_lbls.npy\"), y_train)\n",
    "\n",
    "# Save validation data\n",
    "np.save(os.path.join(outdir, path_prefix, \"val.npy\"), X_val)\n",
    "np.save(os.path.join(outdir, path_prefix, \"val_seqs.npy\"), seqs_val)\n",
    "np.save(os.path.join(outdir, path_prefix, \"val_lbls.npy\"), y_val)"
   ]
  },
  {
   "cell_type": "code",
   "execution_count": 24,
   "metadata": {},
   "outputs": [],
   "source": [
    "#Save the stft in .data format\n",
    "files_train = [filenames[i] for i in indices_train]\n",
    "files_val = [filenames[i] for i in indices_val]\n",
    "\n",
    "train_dir = os.path.join(outdir, path_prefix, \"stft_train\")\n",
    "val_dir = os.path.join(outdir, path_prefix, \"stft_val\")\n",
    "\n",
    "for cls in classes:\n",
    "    os.makedirs(os.path.join(train_dir,cls), exist_ok=True)\n",
    "    os.makedirs(os.path.join(val_dir,cls), exist_ok=True)\n",
    "\n",
    "for tr in files_train:\n",
    "    cur_class = PurePath(tr).parent.name.split('_')[0]\n",
    "    if cur_class != 'Human':\n",
    "        cur_class = 'Nonhuman'\n",
    "    copy(tr, os.path.join(train_dir,cur_class))\n",
    "\n",
    "for val in files_val:\n",
    "    cur_class = PurePath(val).parent.name.split('_')[0]\n",
    "    if cur_class != 'Human':\n",
    "        cur_class = 'Nonhuman'\n",
    "    copy(val, os.path.join(val_dir, cur_class))"
   ]
  },
  {
   "cell_type": "markdown",
   "metadata": {},
   "source": [
    "**Train** Humans: 482 Non_Humans: 503\n",
    "\n",
    "**Validation** Humans: 128 Non_Humans: 116"
   ]
  },
  {
   "cell_type": "code",
   "execution_count": 12,
   "metadata": {},
   "outputs": [],
   "source": [
    "#Rename the files\n",
    "# fileloc = '/scratch/sk7898/pedbike/upstream'\n",
    "# filestrs = ['human_cuts_stft', 'nonhuman_cuts_stft']\n",
    "# classes = ['Human', 'Nonhuman']\n",
    "\n",
    "# filenames = []\n",
    "# [[filenames.append(os.path.join(os.path.join(fileloc, filestr), filename))\\\n",
    "#   for filename in os.listdir(os.path.join(fileloc, filestr))] for filestr in filestrs]\n",
    "\n",
    "# os.makedirs(os.path.join(fileloc, 'Human_stft'), exist_ok=True)\n",
    "# os.makedirs(os.path.join(fileloc, 'Nonhuman_stft'), exist_ok=True)\n",
    "\n",
    "# for f in filenames:\n",
    "#     cur_class = PurePath(f).parent.name.split('_')[0]\n",
    "#     new_class = 'Human' if 'human' == cur_class else 'Nonhuman'\n",
    "#     copy(f, os.path.join(fileloc, new_class+'_stft', os.path.basename(f).replace(cur_class, new_class)))"
   ]
  }
 ],
 "metadata": {
  "kernelspec": {
   "display_name": "Python 3",
   "language": "python",
   "name": "python3"
  },
  "language_info": {
   "codemirror_mode": {
    "name": "ipython",
    "version": 3
   },
   "file_extension": ".py",
   "mimetype": "text/x-python",
   "name": "python",
   "nbconvert_exporter": "python",
   "pygments_lexer": "ipython3",
   "version": "3.6.3"
  }
 },
 "nbformat": 4,
 "nbformat_minor": 2
}
