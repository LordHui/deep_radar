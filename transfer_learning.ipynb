{
 "cells": [
  {
   "cell_type": "code",
   "execution_count": 1,
   "metadata": {},
   "outputs": [
    {
     "name": "stderr",
     "output_type": "stream",
     "text": [
      "Using TensorFlow backend.\n"
     ]
    }
   ],
   "source": [
    "import os\n",
    "import random\n",
    "import math\n",
    "import numpy as np\n",
    "import matplotlib.pyplot as plt\n",
    "import tensorflow as tf\n",
    "import keras\n",
    "from keras import utils\n",
    "from sklearn.model_selection import train_test_split\n",
    "from keras.models import Model, Sequential\n",
    "from keras.layers.convolutional_recurrent import ConvLSTM2D\n",
    "from keras.layers.normalization import BatchNormalization\n",
    "from keras.layers import *"
   ]
  },
  {
   "cell_type": "code",
   "execution_count": null,
   "metadata": {},
   "outputs": [],
   "source": [
    "def get_data(fileloc):\n",
    "    x_train = np.load(os.path.join(fileloc, \"train.npy\"))\n",
    "    x_val = np.load(os.path.join(fileloc, \"val.npy\"))\n",
    "\n",
    "    y_train = np.load(os.path.join(fileloc, \"train_lbls.npy\"))\n",
    "    y_val = np.load(os.path.join(fileloc, \"val_lbls.npy\"))\n",
    "\n",
    "    seqs_train = np.load(os.path.join(fileloc, \"train_seqs.npy\"))\n",
    "    seqs_val = np.load(os.path.join(fileloc, \"val_seqs.npy\"))\n",
    "    \n",
    "    return x_train, x_val, y_train, y_val, seqs_train, seqs_val"
   ]
  },
  {
   "cell_type": "code",
   "execution_count": null,
   "metadata": {},
   "outputs": [],
   "source": [
    "def histedges_equalN(seq_lengths, n_bins):\n",
    "    npt = len(seq_lengths)\n",
    "    return np.interp(np.linspace(0, npt, n_bins + 1),\n",
    "                     np.arange(npt),\n",
    "                     np.sort(seq_lengths))\n",
    "\n",
    "def element_to_bucket_id(x, buckets_min, buckets_max):\n",
    "    seq_length = x.shape[0]\n",
    "    conditions_c = np.logical_and(np.less_equal(buckets_min, seq_length),\n",
    "                                  np.less(seq_length, buckets_max))\n",
    "    bucket_id = np.min(np.where(conditions_c))\n",
    "    return bucket_id\n",
    "\n",
    "def pad_sequence(x, max_len=None, padding_value=0):\n",
    "    orig_length = x.shape[0]\n",
    "    new_x = np.zeros((max_len, 512), dtype=np.float64)\n",
    "    new_x[0:orig_length,:] = x\n",
    "    return new_x\n",
    "    \n",
    "class BucketedBatch(keras.utils.Sequence):            \n",
    "    def _permute(self):\n",
    "        #Shuffle the buckets\n",
    "        self.b_ids = np.random.permutation(self.n_bins)\n",
    "        \n",
    "        # Shuffle bucket contents\n",
    "        for key in self.b_ids:\n",
    "            xbin = np.array(self.buckets[key]['x'])\n",
    "            ybin = np.array(self.buckets[key]['y'])\n",
    "            #print(xbin.shape)\n",
    "            index_array = np.random.permutation(len(self.buckets[key]['x']))\n",
    "            self.buckets[key]['x'] = xbin[index_array]\n",
    "            self.buckets[key]['y'] = ybin[index_array]\n",
    "\n",
    "    def on_epoch_end(self):\n",
    "        self._permute()\n",
    "    \n",
    "    def __len__(self):\n",
    "        \"\"\"Denotes the number of batches per epoch\"\"\"\n",
    "        return self.n_bins\n",
    "    \n",
    "    def __init__(self, n_bins, data, labels, seq_lengths, padding=None, padding_value=None):\n",
    "        bucket_sizes, bucket_boundaries = np.histogram(seq_lengths, bins = histedges_equalN(seq_lengths, n_bins))\n",
    "        #print(bucket_sizes)\n",
    "        #print(bucket_boundaries)\n",
    "\n",
    "        data_buckets = dict()\n",
    "        boundaries = list(bucket_boundaries)\n",
    "        buckets_min = boundaries[:-1]\n",
    "        buckets_max = boundaries[1:]\n",
    "        buckets_max[n_bins-1] += 1\n",
    "        #print(buckets_min)\n",
    "        #print(buckets_max)\n",
    "        \n",
    "        for x, y in zip(data, labels):\n",
    "            b_id = element_to_bucket_id(x, buckets_min, buckets_max)\n",
    "            if padding:\n",
    "                if x.shape[0] < buckets_max[b_id]:\n",
    "                    max_len = buckets_max[b_id] - 1\n",
    "                    x = pad_sequence(x, max_len=int(max_len), padding_value=padding_value)\n",
    "                    \n",
    "            if b_id in data_buckets.keys():\n",
    "                data_buckets[b_id]['x'].append(x)\n",
    "                data_buckets[b_id]['y'].append(y)\n",
    "            else:\n",
    "                data_buckets[b_id] = {} \n",
    "                data_buckets[b_id]['x'] = [x]\n",
    "                data_buckets[b_id]['y'] = [y]    \n",
    "    \n",
    "        self.n_bins = n_bins\n",
    "        self.buckets = data_buckets\n",
    "        self._permute()\n",
    "        \n",
    "    def __getitem__(self, idx):\n",
    "        key = self.b_ids[idx]\n",
    "        return self.buckets[key]['x'], self.buckets[key]['y']"
   ]
  },
  {
   "cell_type": "code",
   "execution_count": null,
   "metadata": {},
   "outputs": [],
   "source": [
    "def val_generator(x_val, y_val):\n",
    "    idx = 0\n",
    "    while True:\n",
    "        for x, y in zip(x_val, y_val):\n",
    "            idx += 1 \n",
    "            x = x.reshape(1, x.shape[0], x.shape[1])\n",
    "            label = np.zeros((1,1), dtype=np.int16)\n",
    "            label[0] = y\n",
    "            if idx >= y_val.shape[0]:\n",
    "                break\n",
    "            return x, label"
   ]
  },
  {
   "cell_type": "code",
   "execution_count": null,
   "metadata": {},
   "outputs": [],
   "source": [
    "window = 256\n",
    "split = 0.3\n",
    "data_prefix = '/scratch/sk7898/pedbike/window_256'\n",
    "\n",
    "if data_type == 'stft':\n",
    "    upstream_data_dir = 'upstream_stft'\n",
    "    downstream_data_dir = 'downstream_stft'\n",
    "else:\n",
    "    upstream_data_dir = 'upstream_time'\n",
    "    downstream_data_dir = 'downstream_time'\n",
    "\n",
    "u_train, u_val, u_y_train, u_y_val, u_seqs_train, u_seqs_val = get_data(upstream_data_dir)\n",
    "\n",
    "d_train, d_val, d_y_train, d_y_val, d_seqs_train, d_seqs_val = get_data(downstream_data_dir)\n",
    "\n",
    "u_train_gen = train_generator(n_bins, x_train, y_train, seq_lengths=seqs_train, padding=True, padding_value=0.0)\n",
    "u_val_gen = val_generator(x_val, y_val)"
   ]
  },
  {
   "cell_type": "code",
   "execution_count": null,
   "metadata": {},
   "outputs": [],
   "source": [
    "batch_size = 64\n",
    "u_n_bins = int(len(u_seqs_train)/batch_size)\n",
    "d_n_bins = int(len(d_seqs_train)/batch_size)\n",
    "\n",
    "u_train_gen = train_generator(u_n_bins, u_train, u_y_train, seq_lengths=u_seqs_train, padding=True, padding_value=0.0)\n",
    "u_val_gen = val_generator(u_val, u_val)\n",
    "\n",
    "d_train_gen = train_generator(d_n_bins, d_train, d_y_train, seq_lengths=d_seqs_train, padding=True, padding_value=0.0)\n",
    "d_val_gen = val_generator(d_val, d_val)"
   ]
  },
  {
   "cell_type": "code",
   "execution_count": null,
   "metadata": {},
   "outputs": [],
   "source": []
  }
 ],
 "metadata": {
  "kernelspec": {
   "display_name": "Python 3",
   "language": "python",
   "name": "python3"
  },
  "language_info": {
   "codemirror_mode": {
    "name": "ipython",
    "version": 3
   },
   "file_extension": ".py",
   "mimetype": "text/x-python",
   "name": "python",
   "nbconvert_exporter": "python",
   "pygments_lexer": "ipython3",
   "version": "3.6.3"
  }
 },
 "nbformat": 4,
 "nbformat_minor": 2
}
